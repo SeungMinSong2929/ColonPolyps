{
 "cells": [
  {
   "cell_type": "markdown",
   "metadata": {},
   "source": [
    "#### df가 원본 데이터\n",
    "#### data가 유전자ID 열만 모아놓은 것\n",
    "    batch와 Condition 열은 제외함."
   ]
  },
  {
   "cell_type": "code",
   "execution_count": 1,
   "metadata": {
    "scrolled": false
   },
   "outputs": [
    {
     "name": "stdout",
     "output_type": "stream",
     "text": [
      "Contion열 포함 Original 데이터 프레임 크기: (273, 12979) \n",
      "\n",
      "[nan, 'Tubular adenoma', 'villous adenoma', 'AP', 'tubulovillous polyp', 'Colorectal adenocarcinoma', 'villoglandular polyp', 'Control', 'SSA/P', 'healthy colonic tissue', 'NS', 'SSP', 'adenovillous polyp', 'HP', 'tubulovillous adenoma', 'TSA', 'Villous / tubulovillous adenoma', 'Tubulovillous adenoma', 'serrated adenoma', 'sessile serrated adenoma', 'Ca', 'tubular adenoma', 'adenomatous polyp', 'FAP', 'Cancer']\n",
      "샘플 종류 25 개\n",
      "\n",
      "['batch3', 'batch4', 'batch2', 'batch1']\n",
      "batch 개수 4 개\n",
      "\n",
      "Condition열 뺀 유전자 발현도만 모아있는 데이터 프레임 크기: (273, 12977)\n"
     ]
    },
    {
     "data": {
      "text/html": [
       "<div>\n",
       "<style scoped>\n",
       "    .dataframe tbody tr th:only-of-type {\n",
       "        vertical-align: middle;\n",
       "    }\n",
       "\n",
       "    .dataframe tbody tr th {\n",
       "        vertical-align: top;\n",
       "    }\n",
       "\n",
       "    .dataframe thead th {\n",
       "        text-align: right;\n",
       "    }\n",
       "</style>\n",
       "<table border=\"1\" class=\"dataframe\">\n",
       "  <thead>\n",
       "    <tr style=\"text-align: right;\">\n",
       "      <th></th>\n",
       "      <th>1</th>\n",
       "      <th>10</th>\n",
       "      <th>100</th>\n",
       "      <th>10000</th>\n",
       "      <th>100009676</th>\n",
       "      <th>10001</th>\n",
       "      <th>10003</th>\n",
       "      <th>10004</th>\n",
       "      <th>100048912</th>\n",
       "      <th>100049716</th>\n",
       "      <th>...</th>\n",
       "      <th>9984</th>\n",
       "      <th>9985</th>\n",
       "      <th>9986</th>\n",
       "      <th>9987</th>\n",
       "      <th>9988</th>\n",
       "      <th>9989</th>\n",
       "      <th>999</th>\n",
       "      <th>9990</th>\n",
       "      <th>9993</th>\n",
       "      <th>9994</th>\n",
       "    </tr>\n",
       "  </thead>\n",
       "  <tbody>\n",
       "    <tr>\n",
       "      <th>N1</th>\n",
       "      <td>3.261926</td>\n",
       "      <td>5.542344</td>\n",
       "      <td>3.871889</td>\n",
       "      <td>3.798965</td>\n",
       "      <td>3.301909</td>\n",
       "      <td>4.530116</td>\n",
       "      <td>1.508158</td>\n",
       "      <td>4.371698</td>\n",
       "      <td>3.855534</td>\n",
       "      <td>3.944943</td>\n",
       "      <td>...</td>\n",
       "      <td>5.522298</td>\n",
       "      <td>3.817919</td>\n",
       "      <td>5.275173</td>\n",
       "      <td>6.938187</td>\n",
       "      <td>6.375326</td>\n",
       "      <td>6.390068</td>\n",
       "      <td>9.818748</td>\n",
       "      <td>6.252513</td>\n",
       "      <td>6.474137</td>\n",
       "      <td>4.038488</td>\n",
       "    </tr>\n",
       "    <tr>\n",
       "      <th>N2</th>\n",
       "      <td>3.067170</td>\n",
       "      <td>5.769222</td>\n",
       "      <td>3.409645</td>\n",
       "      <td>4.053349</td>\n",
       "      <td>3.064216</td>\n",
       "      <td>4.570496</td>\n",
       "      <td>2.211288</td>\n",
       "      <td>5.440883</td>\n",
       "      <td>3.927214</td>\n",
       "      <td>3.880498</td>\n",
       "      <td>...</td>\n",
       "      <td>5.620879</td>\n",
       "      <td>3.405323</td>\n",
       "      <td>5.440304</td>\n",
       "      <td>7.225440</td>\n",
       "      <td>6.498980</td>\n",
       "      <td>6.301897</td>\n",
       "      <td>9.471316</td>\n",
       "      <td>5.858419</td>\n",
       "      <td>6.450580</td>\n",
       "      <td>4.389834</td>\n",
       "    </tr>\n",
       "    <tr>\n",
       "      <th>N3</th>\n",
       "      <td>2.874421</td>\n",
       "      <td>6.154989</td>\n",
       "      <td>3.157981</td>\n",
       "      <td>4.017963</td>\n",
       "      <td>3.360651</td>\n",
       "      <td>4.594367</td>\n",
       "      <td>2.082090</td>\n",
       "      <td>5.156749</td>\n",
       "      <td>3.931030</td>\n",
       "      <td>3.788432</td>\n",
       "      <td>...</td>\n",
       "      <td>5.532340</td>\n",
       "      <td>3.314841</td>\n",
       "      <td>5.344373</td>\n",
       "      <td>7.032817</td>\n",
       "      <td>6.252114</td>\n",
       "      <td>6.623115</td>\n",
       "      <td>9.903985</td>\n",
       "      <td>5.728292</td>\n",
       "      <td>6.703466</td>\n",
       "      <td>4.215545</td>\n",
       "    </tr>\n",
       "    <tr>\n",
       "      <th>N4</th>\n",
       "      <td>3.604518</td>\n",
       "      <td>5.178568</td>\n",
       "      <td>3.842628</td>\n",
       "      <td>3.292021</td>\n",
       "      <td>3.171118</td>\n",
       "      <td>4.258140</td>\n",
       "      <td>1.870523</td>\n",
       "      <td>5.542925</td>\n",
       "      <td>4.368619</td>\n",
       "      <td>4.340705</td>\n",
       "      <td>...</td>\n",
       "      <td>4.772041</td>\n",
       "      <td>3.874741</td>\n",
       "      <td>5.722195</td>\n",
       "      <td>6.570667</td>\n",
       "      <td>5.843107</td>\n",
       "      <td>6.190442</td>\n",
       "      <td>9.685986</td>\n",
       "      <td>5.263290</td>\n",
       "      <td>6.751733</td>\n",
       "      <td>3.717602</td>\n",
       "    </tr>\n",
       "    <tr>\n",
       "      <th>N5</th>\n",
       "      <td>3.782860</td>\n",
       "      <td>5.516549</td>\n",
       "      <td>3.713573</td>\n",
       "      <td>3.300287</td>\n",
       "      <td>4.080469</td>\n",
       "      <td>4.280303</td>\n",
       "      <td>1.872678</td>\n",
       "      <td>5.634587</td>\n",
       "      <td>4.431263</td>\n",
       "      <td>4.287251</td>\n",
       "      <td>...</td>\n",
       "      <td>4.783519</td>\n",
       "      <td>4.029786</td>\n",
       "      <td>5.814754</td>\n",
       "      <td>6.793116</td>\n",
       "      <td>6.215238</td>\n",
       "      <td>5.985074</td>\n",
       "      <td>9.530748</td>\n",
       "      <td>5.507516</td>\n",
       "      <td>6.553576</td>\n",
       "      <td>3.735276</td>\n",
       "    </tr>\n",
       "  </tbody>\n",
       "</table>\n",
       "<p>5 rows × 12977 columns</p>\n",
       "</div>"
      ],
      "text/plain": [
       "           1        10       100     10000  100009676     10001     10003  \\\n",
       "N1  3.261926  5.542344  3.871889  3.798965   3.301909  4.530116  1.508158   \n",
       "N2  3.067170  5.769222  3.409645  4.053349   3.064216  4.570496  2.211288   \n",
       "N3  2.874421  6.154989  3.157981  4.017963   3.360651  4.594367  2.082090   \n",
       "N4  3.604518  5.178568  3.842628  3.292021   3.171118  4.258140  1.870523   \n",
       "N5  3.782860  5.516549  3.713573  3.300287   4.080469  4.280303  1.872678   \n",
       "\n",
       "       10004  100048912  100049716  ...      9984      9985      9986  \\\n",
       "N1  4.371698   3.855534   3.944943  ...  5.522298  3.817919  5.275173   \n",
       "N2  5.440883   3.927214   3.880498  ...  5.620879  3.405323  5.440304   \n",
       "N3  5.156749   3.931030   3.788432  ...  5.532340  3.314841  5.344373   \n",
       "N4  5.542925   4.368619   4.340705  ...  4.772041  3.874741  5.722195   \n",
       "N5  5.634587   4.431263   4.287251  ...  4.783519  4.029786  5.814754   \n",
       "\n",
       "        9987      9988      9989       999      9990      9993      9994  \n",
       "N1  6.938187  6.375326  6.390068  9.818748  6.252513  6.474137  4.038488  \n",
       "N2  7.225440  6.498980  6.301897  9.471316  5.858419  6.450580  4.389834  \n",
       "N3  7.032817  6.252114  6.623115  9.903985  5.728292  6.703466  4.215545  \n",
       "N4  6.570667  5.843107  6.190442  9.685986  5.263290  6.751733  3.717602  \n",
       "N5  6.793116  6.215238  5.985074  9.530748  5.507516  6.553576  3.735276  \n",
       "\n",
       "[5 rows x 12977 columns]"
      ]
     },
     "execution_count": 1,
     "metadata": {},
     "output_type": "execute_result"
    }
   ],
   "source": [
    "import pandas as pd\n",
    "import csv\n",
    "import numpy\n",
    "\n",
    "df = pd.read_table('../dataFile/201126/Colon_merged_273samples.txt')\n",
    "\n",
    "print(\"Contion열 포함 Original 데이터 프레임 크기:\", df.shape,\"\\n\")    \n",
    "\n",
    "#유전자 이름 list로\n",
    "only_geneID=df.columns.tolist()[:-2] #제일 마지막 칼럼이 batch, 마지막에서 2번째 칼럼이 condition\n",
    "\n",
    "# Condition-샘플 이름\n",
    "condition_list=df['Condition'].tolist()\n",
    "my_set = set(condition_list) #집합set으로 변환\n",
    "sampleName = list(my_set) #list로 변환\n",
    "\n",
    "print(sampleName)\n",
    "print(\"샘플 종류\",len(sampleName),\"개\\n\")\n",
    "\n",
    "# batch\n",
    "batch_list=df['batch'].tolist()\n",
    "batch_set = set(batch_list) #집합set으로 변환\n",
    "batchName = list(batch_set) #list로 변환\n",
    "\n",
    "print(batchName)\n",
    "print(\"batch 개수\",len(batchName),\"개\\n\")\n",
    "\n",
    "\n",
    "data=df.loc[:,only_geneID]\n",
    "\n",
    "print(\"Condition열 뺀 유전자 발현도만 모아있는 데이터 프레임 크기:\", data.shape)\n",
    "data.head()\n",
    "#df.head()"
   ]
  },
  {
   "cell_type": "code",
   "execution_count": 2,
   "metadata": {},
   "outputs": [
    {
     "data": {
      "text/html": [
       "<div>\n",
       "<style scoped>\n",
       "    .dataframe tbody tr th:only-of-type {\n",
       "        vertical-align: middle;\n",
       "    }\n",
       "\n",
       "    .dataframe tbody tr th {\n",
       "        vertical-align: top;\n",
       "    }\n",
       "\n",
       "    .dataframe thead th {\n",
       "        text-align: right;\n",
       "    }\n",
       "</style>\n",
       "<table border=\"1\" class=\"dataframe\">\n",
       "  <thead>\n",
       "    <tr style=\"text-align: right;\">\n",
       "      <th></th>\n",
       "      <th>1</th>\n",
       "      <th>10</th>\n",
       "      <th>100</th>\n",
       "      <th>10000</th>\n",
       "      <th>100009676</th>\n",
       "      <th>10001</th>\n",
       "      <th>10003</th>\n",
       "      <th>10004</th>\n",
       "      <th>100048912</th>\n",
       "      <th>100049716</th>\n",
       "      <th>...</th>\n",
       "      <th>9986</th>\n",
       "      <th>9987</th>\n",
       "      <th>9988</th>\n",
       "      <th>9989</th>\n",
       "      <th>999</th>\n",
       "      <th>9990</th>\n",
       "      <th>9993</th>\n",
       "      <th>9994</th>\n",
       "      <th>Condition</th>\n",
       "      <th>batch</th>\n",
       "    </tr>\n",
       "  </thead>\n",
       "  <tbody>\n",
       "    <tr>\n",
       "      <th>N1</th>\n",
       "      <td>3.261926</td>\n",
       "      <td>5.542344</td>\n",
       "      <td>3.871889</td>\n",
       "      <td>3.798965</td>\n",
       "      <td>3.301909</td>\n",
       "      <td>4.530116</td>\n",
       "      <td>1.508158</td>\n",
       "      <td>4.371698</td>\n",
       "      <td>3.855534</td>\n",
       "      <td>3.944943</td>\n",
       "      <td>...</td>\n",
       "      <td>5.275173</td>\n",
       "      <td>6.938187</td>\n",
       "      <td>6.375326</td>\n",
       "      <td>6.390068</td>\n",
       "      <td>9.818748</td>\n",
       "      <td>6.252513</td>\n",
       "      <td>6.474137</td>\n",
       "      <td>4.038488</td>\n",
       "      <td>healthy colonic tissue</td>\n",
       "      <td>batch1</td>\n",
       "    </tr>\n",
       "    <tr>\n",
       "      <th>N2</th>\n",
       "      <td>3.067170</td>\n",
       "      <td>5.769222</td>\n",
       "      <td>3.409645</td>\n",
       "      <td>4.053349</td>\n",
       "      <td>3.064216</td>\n",
       "      <td>4.570496</td>\n",
       "      <td>2.211288</td>\n",
       "      <td>5.440883</td>\n",
       "      <td>3.927214</td>\n",
       "      <td>3.880498</td>\n",
       "      <td>...</td>\n",
       "      <td>5.440304</td>\n",
       "      <td>7.225440</td>\n",
       "      <td>6.498980</td>\n",
       "      <td>6.301897</td>\n",
       "      <td>9.471316</td>\n",
       "      <td>5.858419</td>\n",
       "      <td>6.450580</td>\n",
       "      <td>4.389834</td>\n",
       "      <td>healthy colonic tissue</td>\n",
       "      <td>batch1</td>\n",
       "    </tr>\n",
       "    <tr>\n",
       "      <th>N3</th>\n",
       "      <td>2.874421</td>\n",
       "      <td>6.154989</td>\n",
       "      <td>3.157981</td>\n",
       "      <td>4.017963</td>\n",
       "      <td>3.360651</td>\n",
       "      <td>4.594367</td>\n",
       "      <td>2.082090</td>\n",
       "      <td>5.156749</td>\n",
       "      <td>3.931030</td>\n",
       "      <td>3.788432</td>\n",
       "      <td>...</td>\n",
       "      <td>5.344373</td>\n",
       "      <td>7.032817</td>\n",
       "      <td>6.252114</td>\n",
       "      <td>6.623115</td>\n",
       "      <td>9.903985</td>\n",
       "      <td>5.728292</td>\n",
       "      <td>6.703466</td>\n",
       "      <td>4.215545</td>\n",
       "      <td>healthy colonic tissue</td>\n",
       "      <td>batch1</td>\n",
       "    </tr>\n",
       "    <tr>\n",
       "      <th>N4</th>\n",
       "      <td>3.604518</td>\n",
       "      <td>5.178568</td>\n",
       "      <td>3.842628</td>\n",
       "      <td>3.292021</td>\n",
       "      <td>3.171118</td>\n",
       "      <td>4.258140</td>\n",
       "      <td>1.870523</td>\n",
       "      <td>5.542925</td>\n",
       "      <td>4.368619</td>\n",
       "      <td>4.340705</td>\n",
       "      <td>...</td>\n",
       "      <td>5.722195</td>\n",
       "      <td>6.570667</td>\n",
       "      <td>5.843107</td>\n",
       "      <td>6.190442</td>\n",
       "      <td>9.685986</td>\n",
       "      <td>5.263290</td>\n",
       "      <td>6.751733</td>\n",
       "      <td>3.717602</td>\n",
       "      <td>healthy colonic tissue</td>\n",
       "      <td>batch1</td>\n",
       "    </tr>\n",
       "    <tr>\n",
       "      <th>N5</th>\n",
       "      <td>3.782860</td>\n",
       "      <td>5.516549</td>\n",
       "      <td>3.713573</td>\n",
       "      <td>3.300287</td>\n",
       "      <td>4.080469</td>\n",
       "      <td>4.280303</td>\n",
       "      <td>1.872678</td>\n",
       "      <td>5.634587</td>\n",
       "      <td>4.431263</td>\n",
       "      <td>4.287251</td>\n",
       "      <td>...</td>\n",
       "      <td>5.814754</td>\n",
       "      <td>6.793116</td>\n",
       "      <td>6.215238</td>\n",
       "      <td>5.985074</td>\n",
       "      <td>9.530748</td>\n",
       "      <td>5.507516</td>\n",
       "      <td>6.553576</td>\n",
       "      <td>3.735276</td>\n",
       "      <td>healthy colonic tissue</td>\n",
       "      <td>batch1</td>\n",
       "    </tr>\n",
       "  </tbody>\n",
       "</table>\n",
       "<p>5 rows × 12979 columns</p>\n",
       "</div>"
      ],
      "text/plain": [
       "           1        10       100     10000  100009676     10001     10003  \\\n",
       "N1  3.261926  5.542344  3.871889  3.798965   3.301909  4.530116  1.508158   \n",
       "N2  3.067170  5.769222  3.409645  4.053349   3.064216  4.570496  2.211288   \n",
       "N3  2.874421  6.154989  3.157981  4.017963   3.360651  4.594367  2.082090   \n",
       "N4  3.604518  5.178568  3.842628  3.292021   3.171118  4.258140  1.870523   \n",
       "N5  3.782860  5.516549  3.713573  3.300287   4.080469  4.280303  1.872678   \n",
       "\n",
       "       10004  100048912  100049716  ...      9986      9987      9988  \\\n",
       "N1  4.371698   3.855534   3.944943  ...  5.275173  6.938187  6.375326   \n",
       "N2  5.440883   3.927214   3.880498  ...  5.440304  7.225440  6.498980   \n",
       "N3  5.156749   3.931030   3.788432  ...  5.344373  7.032817  6.252114   \n",
       "N4  5.542925   4.368619   4.340705  ...  5.722195  6.570667  5.843107   \n",
       "N5  5.634587   4.431263   4.287251  ...  5.814754  6.793116  6.215238   \n",
       "\n",
       "        9989       999      9990      9993      9994               Condition  \\\n",
       "N1  6.390068  9.818748  6.252513  6.474137  4.038488  healthy colonic tissue   \n",
       "N2  6.301897  9.471316  5.858419  6.450580  4.389834  healthy colonic tissue   \n",
       "N3  6.623115  9.903985  5.728292  6.703466  4.215545  healthy colonic tissue   \n",
       "N4  6.190442  9.685986  5.263290  6.751733  3.717602  healthy colonic tissue   \n",
       "N5  5.985074  9.530748  5.507516  6.553576  3.735276  healthy colonic tissue   \n",
       "\n",
       "     batch  \n",
       "N1  batch1  \n",
       "N2  batch1  \n",
       "N3  batch1  \n",
       "N4  batch1  \n",
       "N5  batch1  \n",
       "\n",
       "[5 rows x 12979 columns]"
      ]
     },
     "execution_count": 2,
     "metadata": {},
     "output_type": "execute_result"
    }
   ],
   "source": [
    "df.head()"
   ]
  },
  {
   "cell_type": "code",
   "execution_count": 3,
   "metadata": {
    "scrolled": true
   },
   "outputs": [
    {
     "data": {
      "text/plain": [
       "Index(['1', '10', '100', '10000', '100009676', '10001', '10003', '10004',\n",
       "       '100048912', '100049716',\n",
       "       ...\n",
       "       '9984', '9985', '9986', '9987', '9988', '9989', '999', '9990', '9993',\n",
       "       '9994'],\n",
       "      dtype='object', length=12977)"
      ]
     },
     "execution_count": 3,
     "metadata": {},
     "output_type": "execute_result"
    }
   ],
   "source": [
    "data.columns"
   ]
  },
  {
   "cell_type": "code",
   "execution_count": 4,
   "metadata": {
    "scrolled": false
   },
   "outputs": [
    {
     "name": "stdout",
     "output_type": "stream",
     "text": [
      "25\n"
     ]
    },
    {
     "data": {
      "text/plain": [
       "[nan,\n",
       " 'Tubular adenoma',\n",
       " 'villous adenoma',\n",
       " 'AP',\n",
       " 'tubulovillous polyp',\n",
       " 'Colorectal adenocarcinoma',\n",
       " 'villoglandular polyp',\n",
       " 'Control',\n",
       " 'SSA/P',\n",
       " 'healthy colonic tissue',\n",
       " 'NS',\n",
       " 'SSP',\n",
       " 'adenovillous polyp',\n",
       " 'HP',\n",
       " 'tubulovillous adenoma',\n",
       " 'TSA',\n",
       " 'Villous / tubulovillous adenoma',\n",
       " 'Tubulovillous adenoma',\n",
       " 'serrated adenoma',\n",
       " 'sessile serrated adenoma',\n",
       " 'Ca',\n",
       " 'tubular adenoma',\n",
       " 'adenomatous polyp',\n",
       " 'FAP',\n",
       " 'Cancer']"
      ]
     },
     "execution_count": 4,
     "metadata": {},
     "output_type": "execute_result"
    }
   ],
   "source": [
    "print(len(sampleName)) #질병 개수 106개\n",
    "column=sampleName[:len(sampleName)+1]\n",
    "sampleName"
   ]
  },
  {
   "cell_type": "code",
   "execution_count": 5,
   "metadata": {
    "scrolled": false
   },
   "outputs": [
    {
     "name": "stdout",
     "output_type": "stream",
     "text": [
      "Tubular adenoma \t+ 11\n",
      "villous adenoma \t+ 6\n",
      "AP \t+ 10\n",
      "tubulovillous polyp \t+ 2\n",
      "Colorectal adenocarcinoma \t+ 20\n",
      "villoglandular polyp \t+ 1\n",
      "Control \t+ 20\n",
      "SSA/P \t+ 21\n",
      "healthy colonic tissue \t+ 20\n",
      "NS \t+ 2\n",
      "SSP \t+ 4\n",
      "adenovillous polyp \t+ 4\n",
      "HP \t+ 10\n",
      "tubulovillous adenoma \t+ 86\n",
      "TSA \t+ 1\n",
      "Villous / tubulovillous adenoma \t+ 1\n",
      "Tubulovillous adenoma \t+ 8\n",
      "serrated adenoma \t+ 5\n",
      "sessile serrated adenoma \t+ 4\n",
      "Ca \t+ 2\n",
      "tubular adenoma \t+ 18\n",
      "adenomatous polyp \t+ 9\n",
      "FAP \t+ 2\n",
      "Cancer \t+ 4\n"
     ]
    }
   ],
   "source": [
    "# 각 샘플별 개수 \n",
    "for i in sampleName[1:]:\n",
    "    print(i,\"\\t+\",df.loc[df[\"Condition\"] == i,:].shape[0])"
   ]
  },
  {
   "cell_type": "code",
   "execution_count": null,
   "metadata": {},
   "outputs": [],
   "source": []
  },
  {
   "cell_type": "code",
   "execution_count": 6,
   "metadata": {
    "scrolled": false
   },
   "outputs": [
    {
     "data": {
      "text/html": [
       "<div>\n",
       "<style scoped>\n",
       "    .dataframe tbody tr th:only-of-type {\n",
       "        vertical-align: middle;\n",
       "    }\n",
       "\n",
       "    .dataframe tbody tr th {\n",
       "        vertical-align: top;\n",
       "    }\n",
       "\n",
       "    .dataframe thead th {\n",
       "        text-align: right;\n",
       "    }\n",
       "</style>\n",
       "<table border=\"1\" class=\"dataframe\">\n",
       "  <thead>\n",
       "    <tr style=\"text-align: right;\">\n",
       "      <th></th>\n",
       "      <th>1</th>\n",
       "      <th>10</th>\n",
       "      <th>100</th>\n",
       "      <th>10000</th>\n",
       "      <th>100009676</th>\n",
       "      <th>10001</th>\n",
       "      <th>10003</th>\n",
       "      <th>10004</th>\n",
       "      <th>100048912</th>\n",
       "      <th>100049716</th>\n",
       "      <th>...</th>\n",
       "      <th>9986</th>\n",
       "      <th>9987</th>\n",
       "      <th>9988</th>\n",
       "      <th>9989</th>\n",
       "      <th>999</th>\n",
       "      <th>9990</th>\n",
       "      <th>9993</th>\n",
       "      <th>9994</th>\n",
       "      <th>Condition</th>\n",
       "      <th>batch</th>\n",
       "    </tr>\n",
       "  </thead>\n",
       "  <tbody>\n",
       "    <tr>\n",
       "      <th>SSP_4</th>\n",
       "      <td>2.678969</td>\n",
       "      <td>5.562394</td>\n",
       "      <td>3.009244</td>\n",
       "      <td>2.579101</td>\n",
       "      <td>3.352881</td>\n",
       "      <td>4.251693</td>\n",
       "      <td>1.820089</td>\n",
       "      <td>4.078985</td>\n",
       "      <td>3.464314</td>\n",
       "      <td>4.196016</td>\n",
       "      <td>...</td>\n",
       "      <td>5.551267</td>\n",
       "      <td>7.015986</td>\n",
       "      <td>6.271153</td>\n",
       "      <td>6.699406</td>\n",
       "      <td>9.993463</td>\n",
       "      <td>5.533864</td>\n",
       "      <td>6.425784</td>\n",
       "      <td>4.194093</td>\n",
       "      <td>NaN</td>\n",
       "      <td>batch2</td>\n",
       "    </tr>\n",
       "    <tr>\n",
       "      <th>SSP_8</th>\n",
       "      <td>3.388493</td>\n",
       "      <td>5.331305</td>\n",
       "      <td>4.425484</td>\n",
       "      <td>3.523969</td>\n",
       "      <td>2.994306</td>\n",
       "      <td>4.619105</td>\n",
       "      <td>2.220337</td>\n",
       "      <td>4.422534</td>\n",
       "      <td>2.871913</td>\n",
       "      <td>4.216557</td>\n",
       "      <td>...</td>\n",
       "      <td>5.486888</td>\n",
       "      <td>7.251910</td>\n",
       "      <td>6.791371</td>\n",
       "      <td>6.534864</td>\n",
       "      <td>9.337104</td>\n",
       "      <td>5.705262</td>\n",
       "      <td>6.101527</td>\n",
       "      <td>4.096965</td>\n",
       "      <td>NaN</td>\n",
       "      <td>batch2</td>\n",
       "    </tr>\n",
       "  </tbody>\n",
       "</table>\n",
       "<p>2 rows × 12979 columns</p>\n",
       "</div>"
      ],
      "text/plain": [
       "              1        10       100     10000  100009676     10001     10003  \\\n",
       "SSP_4  2.678969  5.562394  3.009244  2.579101   3.352881  4.251693  1.820089   \n",
       "SSP_8  3.388493  5.331305  4.425484  3.523969   2.994306  4.619105  2.220337   \n",
       "\n",
       "          10004  100048912  100049716  ...      9986      9987      9988  \\\n",
       "SSP_4  4.078985   3.464314   4.196016  ...  5.551267  7.015986  6.271153   \n",
       "SSP_8  4.422534   2.871913   4.216557  ...  5.486888  7.251910  6.791371   \n",
       "\n",
       "           9989       999      9990      9993      9994  Condition   batch  \n",
       "SSP_4  6.699406  9.993463  5.533864  6.425784  4.194093        NaN  batch2  \n",
       "SSP_8  6.534864  9.337104  5.705262  6.101527  4.096965        NaN  batch2  \n",
       "\n",
       "[2 rows x 12979 columns]"
      ]
     },
     "execution_count": 6,
     "metadata": {},
     "output_type": "execute_result"
    }
   ],
   "source": [
    "df.loc[df[\"Condition\"].isna()] # df.loc[[\"SSP_4\",\"SSP_8\"],:] 같은 의미"
   ]
  },
  {
   "cell_type": "code",
   "execution_count": 7,
   "metadata": {
    "scrolled": true
   },
   "outputs": [
    {
     "data": {
      "text/html": [
       "<div>\n",
       "<style scoped>\n",
       "    .dataframe tbody tr th:only-of-type {\n",
       "        vertical-align: middle;\n",
       "    }\n",
       "\n",
       "    .dataframe tbody tr th {\n",
       "        vertical-align: top;\n",
       "    }\n",
       "\n",
       "    .dataframe thead th {\n",
       "        text-align: right;\n",
       "    }\n",
       "</style>\n",
       "<table border=\"1\" class=\"dataframe\">\n",
       "  <thead>\n",
       "    <tr style=\"text-align: right;\">\n",
       "      <th></th>\n",
       "      <th>predict</th>\n",
       "    </tr>\n",
       "  </thead>\n",
       "  <tbody>\n",
       "    <tr>\n",
       "      <th>N1</th>\n",
       "      <td>healthy colonic tissue</td>\n",
       "    </tr>\n",
       "    <tr>\n",
       "      <th>N2</th>\n",
       "      <td>healthy colonic tissue</td>\n",
       "    </tr>\n",
       "    <tr>\n",
       "      <th>N3</th>\n",
       "      <td>healthy colonic tissue</td>\n",
       "    </tr>\n",
       "    <tr>\n",
       "      <th>N4</th>\n",
       "      <td>healthy colonic tissue</td>\n",
       "    </tr>\n",
       "    <tr>\n",
       "      <th>N5</th>\n",
       "      <td>healthy colonic tissue</td>\n",
       "    </tr>\n",
       "  </tbody>\n",
       "</table>\n",
       "</div>"
      ],
      "text/plain": [
       "                   predict\n",
       "N1  healthy colonic tissue\n",
       "N2  healthy colonic tissue\n",
       "N3  healthy colonic tissue\n",
       "N4  healthy colonic tissue\n",
       "N5  healthy colonic tissue"
      ]
     },
     "execution_count": 7,
     "metadata": {},
     "output_type": "execute_result"
    }
   ],
   "source": [
    "import matplotlib.pyplot as plt\n",
    "import seaborn as sns\n",
    "from sklearn.cluster import KMeans\n",
    "import pandas as pd\n",
    "import numpy as np\n",
    "from pandas import DataFrame\n",
    "\n",
    "# https://note.espriter.net/1326\n",
    "\n",
    "#predict=pd.DataFrame(df['Condition'].tolist())\n",
    "predict=df[['Condition']]\n",
    "predict.columns=['predict']\n",
    "predict.head()"
   ]
  },
  {
   "cell_type": "code",
   "execution_count": null,
   "metadata": {},
   "outputs": [],
   "source": []
  },
  {
   "cell_type": "markdown",
   "metadata": {},
   "source": [
    "<b> 이름은 다른데, 같은 샘플들 합치기 </b>"
   ]
  },
  {
   "cell_type": "markdown",
   "metadata": {},
   "source": [
    "healthy colonic tissue = control = NAN = NS <br>\n",
    "Tubulovillous adenoma = Villous/Tubluovillous adenoma = tubulovillous polyp = tubulovillous adenoma <br>\n",
    "sessile serrated adenoma = SSA/P = SSP <br> \n",
    "adenomatous polyp = AP <br>\n",
    "Cancer = Ca = colorectal adenocarcinoma <br>"
   ]
  },
  {
   "cell_type": "code",
   "execution_count": 8,
   "metadata": {},
   "outputs": [
    {
     "data": {
      "text/plain": [
       "[nan,\n",
       " 'Tubular adenoma',\n",
       " 'villous adenoma',\n",
       " 'AP',\n",
       " 'tubulovillous polyp',\n",
       " 'Colorectal adenocarcinoma',\n",
       " 'villoglandular polyp',\n",
       " 'Control',\n",
       " 'SSA/P',\n",
       " 'healthy colonic tissue',\n",
       " 'NS',\n",
       " 'SSP',\n",
       " 'adenovillous polyp',\n",
       " 'HP',\n",
       " 'tubulovillous adenoma',\n",
       " 'TSA',\n",
       " 'Villous / tubulovillous adenoma',\n",
       " 'Tubulovillous adenoma',\n",
       " 'serrated adenoma',\n",
       " 'sessile serrated adenoma',\n",
       " 'Ca',\n",
       " 'tubular adenoma',\n",
       " 'adenomatous polyp',\n",
       " 'FAP',\n",
       " 'Cancer']"
      ]
     },
     "execution_count": 8,
     "metadata": {},
     "output_type": "execute_result"
    }
   ],
   "source": [
    "combine_sampleName=sampleName[:]\n",
    "combine_sampleName"
   ]
  },
  {
   "cell_type": "code",
   "execution_count": 9,
   "metadata": {},
   "outputs": [
    {
     "name": "stdout",
     "output_type": "stream",
     "text": [
      "healthy colonic tissue\n"
     ]
    },
    {
     "name": "stderr",
     "output_type": "stream",
     "text": [
      "C:\\anaconda\\lib\\site-packages\\pandas\\core\\indexing.py:671: SettingWithCopyWarning: \n",
      "A value is trying to be set on a copy of a slice from a DataFrame\n",
      "\n",
      "See the caveats in the documentation: https://pandas.pydata.org/pandas-docs/stable/user_guide/indexing.html#returning-a-view-versus-a-copy\n",
      "  self._setitem_with_indexer(indexer, value)\n",
      "C:\\anaconda\\lib\\site-packages\\ipykernel_launcher.py:5: SettingWithCopyWarning: \n",
      "A value is trying to be set on a copy of a slice from a DataFrame\n",
      "\n",
      "See the caveats in the documentation: https://pandas.pydata.org/pandas-docs/stable/user_guide/indexing.html#returning-a-view-versus-a-copy\n",
      "  \"\"\"\n",
      "C:\\anaconda\\lib\\site-packages\\ipykernel_launcher.py:8: SettingWithCopyWarning: \n",
      "A value is trying to be set on a copy of a slice from a DataFrame\n",
      "\n",
      "See the caveats in the documentation: https://pandas.pydata.org/pandas-docs/stable/user_guide/indexing.html#returning-a-view-versus-a-copy\n",
      "  \n",
      "C:\\anaconda\\lib\\site-packages\\ipykernel_launcher.py:9: SettingWithCopyWarning: \n",
      "A value is trying to be set on a copy of a slice from a DataFrame\n",
      "\n",
      "See the caveats in the documentation: https://pandas.pydata.org/pandas-docs/stable/user_guide/indexing.html#returning-a-view-versus-a-copy\n",
      "  if __name__ == '__main__':\n"
     ]
    },
    {
     "data": {
      "text/plain": [
       "['Tubular adenoma',\n",
       " 'villous adenoma',\n",
       " 'AP',\n",
       " 'tubulovillous polyp',\n",
       " 'Colorectal adenocarcinoma',\n",
       " 'villoglandular polyp',\n",
       " 'SSA/P',\n",
       " 'healthy colonic tissue',\n",
       " 'SSP',\n",
       " 'adenovillous polyp',\n",
       " 'HP',\n",
       " 'tubulovillous adenoma',\n",
       " 'TSA',\n",
       " 'Villous / tubulovillous adenoma',\n",
       " 'Tubulovillous adenoma',\n",
       " 'serrated adenoma',\n",
       " 'sessile serrated adenoma',\n",
       " 'Ca',\n",
       " 'tubular adenoma',\n",
       " 'adenomatous polyp',\n",
       " 'FAP',\n",
       " 'Cancer']"
      ]
     },
     "execution_count": 9,
     "metadata": {},
     "output_type": "execute_result"
    }
   ],
   "source": [
    "NS=['healthy colonic tissue', 'Control', 'NS']\n",
    "print(NS[0])\n",
    "\n",
    "for i in NS:\n",
    "    predict.loc[predict[\"predict\"] == i,:] = NS[0]\n",
    "\n",
    "# NAN값인 샘플들 NS[0]으로 변경\n",
    "predict.loc[[\"SSP_4\"],\"predict\"]=NS[0]\n",
    "predict.loc[[\"SSP_8\"],\"predict\"]=NS[0]\n",
    "\n",
    "# predict-샘플 이름\n",
    "predict_list=predict['predict'].tolist()\n",
    "predict_set = set(predict_list) #집합set으로 변환\n",
    "combine_sampleName = list(predict_set) #list로 변환\n",
    "combine_sampleName"
   ]
  },
  {
   "cell_type": "code",
   "execution_count": 10,
   "metadata": {},
   "outputs": [
    {
     "name": "stdout",
     "output_type": "stream",
     "text": [
      "Tubulovillous adenoma\n"
     ]
    },
    {
     "name": "stderr",
     "output_type": "stream",
     "text": [
      "C:\\anaconda\\lib\\site-packages\\ipykernel_launcher.py:5: SettingWithCopyWarning: \n",
      "A value is trying to be set on a copy of a slice from a DataFrame\n",
      "\n",
      "See the caveats in the documentation: https://pandas.pydata.org/pandas-docs/stable/user_guide/indexing.html#returning-a-view-versus-a-copy\n",
      "  \"\"\"\n"
     ]
    },
    {
     "data": {
      "text/plain": [
       "['SSP',\n",
       " 'Ca',\n",
       " 'tubular adenoma',\n",
       " 'adenomatous polyp',\n",
       " 'FAP',\n",
       " 'Tubular adenoma',\n",
       " 'adenovillous polyp',\n",
       " 'serrated adenoma',\n",
       " 'Cancer',\n",
       " 'HP',\n",
       " 'sessile serrated adenoma',\n",
       " 'AP',\n",
       " 'TSA',\n",
       " 'Colorectal adenocarcinoma',\n",
       " 'villoglandular polyp',\n",
       " 'Tubulovillous adenoma',\n",
       " 'SSA/P',\n",
       " 'healthy colonic tissue']"
      ]
     },
     "execution_count": 10,
     "metadata": {},
     "output_type": "execute_result"
    }
   ],
   "source": [
    "TubA=['Tubulovillous adenoma', 'Villous / tubulovillous adenoma', 'tubulovillous polyp', 'tubulovillous adenoma', 'villous adenoma']\n",
    "print(TubA[0])\n",
    "\n",
    "for i in TubA:\n",
    "    predict.loc[predict[\"predict\"] == i,:] = TubA[0]\n",
    "    \n",
    "# predict-샘플 이름\n",
    "predict_list=predict['predict'].tolist()\n",
    "predict_set = set(predict_list) #집합set으로 변환\n",
    "combine_sampleName = list(predict_set) #list로 변환\n",
    "combine_sampleName"
   ]
  },
  {
   "cell_type": "code",
   "execution_count": 11,
   "metadata": {},
   "outputs": [
    {
     "name": "stdout",
     "output_type": "stream",
     "text": [
      "sessile serrated adenoma\n"
     ]
    },
    {
     "name": "stderr",
     "output_type": "stream",
     "text": [
      "C:\\anaconda\\lib\\site-packages\\ipykernel_launcher.py:5: SettingWithCopyWarning: \n",
      "A value is trying to be set on a copy of a slice from a DataFrame\n",
      "\n",
      "See the caveats in the documentation: https://pandas.pydata.org/pandas-docs/stable/user_guide/indexing.html#returning-a-view-versus-a-copy\n",
      "  \"\"\"\n"
     ]
    },
    {
     "data": {
      "text/plain": [
       "['Ca',\n",
       " 'tubular adenoma',\n",
       " 'adenomatous polyp',\n",
       " 'FAP',\n",
       " 'Tubular adenoma',\n",
       " 'adenovillous polyp',\n",
       " 'serrated adenoma',\n",
       " 'Cancer',\n",
       " 'HP',\n",
       " 'sessile serrated adenoma',\n",
       " 'AP',\n",
       " 'TSA',\n",
       " 'Colorectal adenocarcinoma',\n",
       " 'villoglandular polyp',\n",
       " 'Tubulovillous adenoma',\n",
       " 'healthy colonic tissue']"
      ]
     },
     "execution_count": 11,
     "metadata": {},
     "output_type": "execute_result"
    }
   ],
   "source": [
    "SSP=['sessile serrated adenoma', 'SSA/P', 'SSP']\n",
    "print(SSP[0])\n",
    "\n",
    "for i in SSP:\n",
    "    predict.loc[predict[\"predict\"] == i,:] = SSP[0]\n",
    "    \n",
    "# predict-샘플 이름\n",
    "predict_list=predict['predict'].tolist()\n",
    "predict_set = set(predict_list) #집합set으로 변환\n",
    "combine_sampleName = list(predict_set) #list로 변환\n",
    "combine_sampleName"
   ]
  },
  {
   "cell_type": "code",
   "execution_count": 12,
   "metadata": {},
   "outputs": [
    {
     "name": "stdout",
     "output_type": "stream",
     "text": [
      "adenomatous polyp\n"
     ]
    },
    {
     "name": "stderr",
     "output_type": "stream",
     "text": [
      "C:\\anaconda\\lib\\site-packages\\ipykernel_launcher.py:5: SettingWithCopyWarning: \n",
      "A value is trying to be set on a copy of a slice from a DataFrame\n",
      "\n",
      "See the caveats in the documentation: https://pandas.pydata.org/pandas-docs/stable/user_guide/indexing.html#returning-a-view-versus-a-copy\n",
      "  \"\"\"\n"
     ]
    },
    {
     "data": {
      "text/plain": [
       "['Ca',\n",
       " 'tubular adenoma',\n",
       " 'adenomatous polyp',\n",
       " 'FAP',\n",
       " 'Tubular adenoma',\n",
       " 'adenovillous polyp',\n",
       " 'serrated adenoma',\n",
       " 'Cancer',\n",
       " 'HP',\n",
       " 'sessile serrated adenoma',\n",
       " 'TSA',\n",
       " 'Colorectal adenocarcinoma',\n",
       " 'villoglandular polyp',\n",
       " 'Tubulovillous adenoma',\n",
       " 'healthy colonic tissue']"
      ]
     },
     "execution_count": 12,
     "metadata": {},
     "output_type": "execute_result"
    }
   ],
   "source": [
    "AP=['adenomatous polyp', 'AP']\n",
    "print(AP[0])\n",
    "\n",
    "for i in AP:\n",
    "    predict.loc[predict[\"predict\"] == i,:] = AP[0]\n",
    "    \n",
    "# predict-샘플 이름\n",
    "predict_list=predict['predict'].tolist()\n",
    "predict_set = set(predict_list) #집합set으로 변환\n",
    "combine_sampleName = list(predict_set) #list로 변환\n",
    "combine_sampleName"
   ]
  },
  {
   "cell_type": "code",
   "execution_count": 13,
   "metadata": {},
   "outputs": [
    {
     "name": "stdout",
     "output_type": "stream",
     "text": [
      "Cancer\n"
     ]
    },
    {
     "name": "stderr",
     "output_type": "stream",
     "text": [
      "C:\\anaconda\\lib\\site-packages\\ipykernel_launcher.py:5: SettingWithCopyWarning: \n",
      "A value is trying to be set on a copy of a slice from a DataFrame\n",
      "\n",
      "See the caveats in the documentation: https://pandas.pydata.org/pandas-docs/stable/user_guide/indexing.html#returning-a-view-versus-a-copy\n",
      "  \"\"\"\n"
     ]
    },
    {
     "data": {
      "text/plain": [
       "['tubular adenoma',\n",
       " 'adenomatous polyp',\n",
       " 'FAP',\n",
       " 'Tubular adenoma',\n",
       " 'adenovillous polyp',\n",
       " 'Cancer',\n",
       " 'serrated adenoma',\n",
       " 'HP',\n",
       " 'sessile serrated adenoma',\n",
       " 'TSA',\n",
       " 'villoglandular polyp',\n",
       " 'Tubulovillous adenoma',\n",
       " 'healthy colonic tissue']"
      ]
     },
     "execution_count": 13,
     "metadata": {},
     "output_type": "execute_result"
    }
   ],
   "source": [
    "Cancer=['Cancer', 'Ca', 'Colorectal adenocarcinoma']\n",
    "print(Cancer[0])\n",
    "\n",
    "for i in Cancer:\n",
    "    predict.loc[predict[\"predict\"] == i,:] = Cancer[0]\n",
    "    \n",
    "# predict-샘플 이름\n",
    "predict_list=predict['predict'].tolist()\n",
    "predict_set = set(predict_list) #집합set으로 변환\n",
    "combine_sampleName = list(predict_set) #list로 변환\n",
    "combine_sampleName"
   ]
  },
  {
   "cell_type": "code",
   "execution_count": 14,
   "metadata": {},
   "outputs": [
    {
     "name": "stdout",
     "output_type": "stream",
     "text": [
      "tubular adenoma\n"
     ]
    },
    {
     "name": "stderr",
     "output_type": "stream",
     "text": [
      "C:\\anaconda\\lib\\site-packages\\ipykernel_launcher.py:5: SettingWithCopyWarning: \n",
      "A value is trying to be set on a copy of a slice from a DataFrame\n",
      "\n",
      "See the caveats in the documentation: https://pandas.pydata.org/pandas-docs/stable/user_guide/indexing.html#returning-a-view-versus-a-copy\n",
      "  \"\"\"\n"
     ]
    },
    {
     "data": {
      "text/plain": [
       "['tubular adenoma',\n",
       " 'adenomatous polyp',\n",
       " 'FAP',\n",
       " 'adenovillous polyp',\n",
       " 'Cancer',\n",
       " 'serrated adenoma',\n",
       " 'HP',\n",
       " 'sessile serrated adenoma',\n",
       " 'TSA',\n",
       " 'villoglandular polyp',\n",
       " 'Tubulovillous adenoma',\n",
       " 'healthy colonic tissue']"
      ]
     },
     "execution_count": 14,
     "metadata": {},
     "output_type": "execute_result"
    }
   ],
   "source": [
    "TA=['tubular adenoma', 'Tubular adenoma']\n",
    "print(TA[0])\n",
    "\n",
    "for i in TA:\n",
    "    predict.loc[predict[\"predict\"] == i,:] = TA[0]\n",
    "    \n",
    "# predict-샘플 이름\n",
    "predict_list=predict['predict'].tolist()\n",
    "predict_set = set(predict_list) #집합set으로 변환\n",
    "combine_sampleName = list(predict_set) #list로 변환\n",
    "combine_sampleName"
   ]
  },
  {
   "cell_type": "markdown",
   "metadata": {},
   "source": [
    "<b> 합치고 난 최종 샘플 종류와 개수 </b>"
   ]
  },
  {
   "cell_type": "code",
   "execution_count": 15,
   "metadata": {
    "scrolled": true
   },
   "outputs": [
    {
     "name": "stdout",
     "output_type": "stream",
     "text": [
      "tubular adenoma \t+ 29\n",
      "adenomatous polyp \t+ 19\n",
      "FAP \t+ 2\n",
      "adenovillous polyp \t+ 4\n",
      "Cancer \t+ 26\n",
      "serrated adenoma \t+ 5\n",
      "HP \t+ 10\n",
      "sessile serrated adenoma \t+ 29\n",
      "TSA \t+ 1\n",
      "villoglandular polyp \t+ 1\n",
      "Tubulovillous adenoma \t+ 103\n",
      "healthy colonic tissue \t+ 44\n"
     ]
    }
   ],
   "source": [
    "for i in combine_sampleName:\n",
    "    print(i,\"\\t+\",predict.loc[predict[\"predict\"] == i,:].shape[0])"
   ]
  },
  {
   "cell_type": "code",
   "execution_count": null,
   "metadata": {},
   "outputs": [],
   "source": []
  },
  {
   "cell_type": "code",
   "execution_count": null,
   "metadata": {},
   "outputs": [],
   "source": []
  },
  {
   "cell_type": "markdown",
   "metadata": {},
   "source": [
    "<b> 샘플 -> 숫자 매핑 </b>"
   ]
  },
  {
   "cell_type": "code",
   "execution_count": 16,
   "metadata": {
    "scrolled": false
   },
   "outputs": [
    {
     "name": "stdout",
     "output_type": "stream",
     "text": [
      "tubular adenoma\n",
      "adenomatous polyp\n",
      "FAP\n",
      "adenovillous polyp\n",
      "Cancer\n",
      "serrated adenoma\n",
      "HP\n",
      "sessile serrated adenoma\n",
      "TSA\n",
      "villoglandular polyp\n",
      "Tubulovillous adenoma\n",
      "healthy colonic tissue\n",
      "13\n"
     ]
    },
    {
     "name": "stderr",
     "output_type": "stream",
     "text": [
      "C:\\anaconda\\lib\\site-packages\\ipykernel_launcher.py:4: SettingWithCopyWarning: \n",
      "A value is trying to be set on a copy of a slice from a DataFrame\n",
      "\n",
      "See the caveats in the documentation: https://pandas.pydata.org/pandas-docs/stable/user_guide/indexing.html#returning-a-view-versus-a-copy\n",
      "  after removing the cwd from sys.path.\n"
     ]
    },
    {
     "data": {
      "text/html": [
       "<div>\n",
       "<style scoped>\n",
       "    .dataframe tbody tr th:only-of-type {\n",
       "        vertical-align: middle;\n",
       "    }\n",
       "\n",
       "    .dataframe tbody tr th {\n",
       "        vertical-align: top;\n",
       "    }\n",
       "\n",
       "    .dataframe thead th {\n",
       "        text-align: right;\n",
       "    }\n",
       "</style>\n",
       "<table border=\"1\" class=\"dataframe\">\n",
       "  <thead>\n",
       "    <tr style=\"text-align: right;\">\n",
       "      <th></th>\n",
       "      <th>predict</th>\n",
       "    </tr>\n",
       "  </thead>\n",
       "  <tbody>\n",
       "    <tr>\n",
       "      <th>N1</th>\n",
       "      <td>12</td>\n",
       "    </tr>\n",
       "    <tr>\n",
       "      <th>N2</th>\n",
       "      <td>12</td>\n",
       "    </tr>\n",
       "    <tr>\n",
       "      <th>N3</th>\n",
       "      <td>12</td>\n",
       "    </tr>\n",
       "    <tr>\n",
       "      <th>N4</th>\n",
       "      <td>12</td>\n",
       "    </tr>\n",
       "    <tr>\n",
       "      <th>N5</th>\n",
       "      <td>12</td>\n",
       "    </tr>\n",
       "    <tr>\n",
       "      <th>N6</th>\n",
       "      <td>12</td>\n",
       "    </tr>\n",
       "    <tr>\n",
       "      <th>N7</th>\n",
       "      <td>12</td>\n",
       "    </tr>\n",
       "    <tr>\n",
       "      <th>N8</th>\n",
       "      <td>12</td>\n",
       "    </tr>\n",
       "    <tr>\n",
       "      <th>N9</th>\n",
       "      <td>12</td>\n",
       "    </tr>\n",
       "    <tr>\n",
       "      <th>N10</th>\n",
       "      <td>12</td>\n",
       "    </tr>\n",
       "    <tr>\n",
       "      <th>N11</th>\n",
       "      <td>12</td>\n",
       "    </tr>\n",
       "    <tr>\n",
       "      <th>N12</th>\n",
       "      <td>12</td>\n",
       "    </tr>\n",
       "    <tr>\n",
       "      <th>N13</th>\n",
       "      <td>12</td>\n",
       "    </tr>\n",
       "    <tr>\n",
       "      <th>N14</th>\n",
       "      <td>12</td>\n",
       "    </tr>\n",
       "    <tr>\n",
       "      <th>N15</th>\n",
       "      <td>12</td>\n",
       "    </tr>\n",
       "    <tr>\n",
       "      <th>N16</th>\n",
       "      <td>12</td>\n",
       "    </tr>\n",
       "    <tr>\n",
       "      <th>N17</th>\n",
       "      <td>12</td>\n",
       "    </tr>\n",
       "    <tr>\n",
       "      <th>N18</th>\n",
       "      <td>12</td>\n",
       "    </tr>\n",
       "    <tr>\n",
       "      <th>N19</th>\n",
       "      <td>12</td>\n",
       "    </tr>\n",
       "    <tr>\n",
       "      <th>N20</th>\n",
       "      <td>12</td>\n",
       "    </tr>\n",
       "    <tr>\n",
       "      <th>AD1</th>\n",
       "      <td>1</td>\n",
       "    </tr>\n",
       "    <tr>\n",
       "      <th>AD2</th>\n",
       "      <td>11</td>\n",
       "    </tr>\n",
       "    <tr>\n",
       "      <th>AD3</th>\n",
       "      <td>11</td>\n",
       "    </tr>\n",
       "    <tr>\n",
       "      <th>AD4</th>\n",
       "      <td>11</td>\n",
       "    </tr>\n",
       "    <tr>\n",
       "      <th>AD5</th>\n",
       "      <td>11</td>\n",
       "    </tr>\n",
       "    <tr>\n",
       "      <th>AD6</th>\n",
       "      <td>1</td>\n",
       "    </tr>\n",
       "    <tr>\n",
       "      <th>AD7</th>\n",
       "      <td>11</td>\n",
       "    </tr>\n",
       "    <tr>\n",
       "      <th>AD8</th>\n",
       "      <td>11</td>\n",
       "    </tr>\n",
       "    <tr>\n",
       "      <th>AD9</th>\n",
       "      <td>11</td>\n",
       "    </tr>\n",
       "    <tr>\n",
       "      <th>AD10</th>\n",
       "      <td>1</td>\n",
       "    </tr>\n",
       "  </tbody>\n",
       "</table>\n",
       "</div>"
      ],
      "text/plain": [
       "     predict\n",
       "N1        12\n",
       "N2        12\n",
       "N3        12\n",
       "N4        12\n",
       "N5        12\n",
       "N6        12\n",
       "N7        12\n",
       "N8        12\n",
       "N9        12\n",
       "N10       12\n",
       "N11       12\n",
       "N12       12\n",
       "N13       12\n",
       "N14       12\n",
       "N15       12\n",
       "N16       12\n",
       "N17       12\n",
       "N18       12\n",
       "N19       12\n",
       "N20       12\n",
       "AD1        1\n",
       "AD2       11\n",
       "AD3       11\n",
       "AD4       11\n",
       "AD5       11\n",
       "AD6        1\n",
       "AD7       11\n",
       "AD8       11\n",
       "AD9       11\n",
       "AD10       1"
      ]
     },
     "execution_count": 16,
     "metadata": {},
     "output_type": "execute_result"
    }
   ],
   "source": [
    "num=1\n",
    "for i in combine_sampleName:\n",
    "    print(i)\n",
    "    predict.loc[predict[\"predict\"] == i,:] = num\n",
    "    num =num+1\n",
    "print(num)\n",
    "predict.head(30)"
   ]
  },
  {
   "cell_type": "code",
   "execution_count": null,
   "metadata": {},
   "outputs": [],
   "source": []
  },
  {
   "cell_type": "code",
   "execution_count": null,
   "metadata": {},
   "outputs": [],
   "source": []
  },
  {
   "cell_type": "code",
   "execution_count": 17,
   "metadata": {
    "scrolled": false
   },
   "outputs": [
    {
     "name": "stdout",
     "output_type": "stream",
     "text": [
      "                 1        10       100     10000  100009676     10001  \\\n",
      "N1        3.261926  5.542344  3.871889  3.798965   3.301909  4.530116   \n",
      "N2        3.067170  5.769222  3.409645  4.053349   3.064216  4.570496   \n",
      "N3        2.874421  6.154989  3.157981  4.017963   3.360651  4.594367   \n",
      "N4        3.604518  5.178568  3.842628  3.292021   3.171118  4.258140   \n",
      "N5        3.782860  5.516549  3.713573  3.300287   4.080469  4.280303   \n",
      "...            ...       ...       ...       ...        ...       ...   \n",
      "SSA.P.17  3.168203  5.081238  4.153700  3.908562   3.001588  4.820424   \n",
      "SSA.P.18  3.410563  5.201103  4.187524  3.360113   3.153917  4.409013   \n",
      "SSA.P.19  3.406845  5.773570  3.531418  3.018848   3.639411  4.293574   \n",
      "SSA.P.20  4.509260  5.044354  4.378324  2.642289   3.138742  4.623012   \n",
      "SSA.P.21  2.730068  4.509664  3.548250  3.175807   3.477712  4.862594   \n",
      "\n",
      "             10003     10004  100048912  100049716  ...      9985      9986  \\\n",
      "N1        1.508158  4.371698   3.855534   3.944943  ...  3.817919  5.275173   \n",
      "N2        2.211288  5.440883   3.927214   3.880498  ...  3.405323  5.440304   \n",
      "N3        2.082090  5.156749   3.931030   3.788432  ...  3.314841  5.344373   \n",
      "N4        1.870523  5.542925   4.368619   4.340705  ...  3.874741  5.722195   \n",
      "N5        1.872678  5.634587   4.431263   4.287251  ...  4.029786  5.814754   \n",
      "...            ...       ...        ...        ...  ...       ...       ...   \n",
      "SSA.P.17  2.375645  4.338708   2.365043   4.184505  ...  4.138788  5.260717   \n",
      "SSA.P.18  1.234972  4.013469   3.833025   4.610452  ...  3.597399  5.916054   \n",
      "SSA.P.19  1.231854  3.649411   2.929373   4.054895  ...  4.221285  5.698377   \n",
      "SSA.P.20  1.817323  4.769140   4.351938   4.410926  ...  4.085452  6.499885   \n",
      "SSA.P.21  1.629351  4.782584   2.797801   3.911247  ...  4.495704  5.875531   \n",
      "\n",
      "              9987      9988      9989        999      9990      9993  \\\n",
      "N1        6.938187  6.375326  6.390068   9.818748  6.252513  6.474137   \n",
      "N2        7.225440  6.498980  6.301897   9.471316  5.858419  6.450580   \n",
      "N3        7.032817  6.252114  6.623115   9.903985  5.728292  6.703466   \n",
      "N4        6.570667  5.843107  6.190442   9.685986  5.263290  6.751733   \n",
      "N5        6.793116  6.215238  5.985074   9.530748  5.507516  6.553576   \n",
      "...            ...       ...       ...        ...       ...       ...   \n",
      "SSA.P.17  7.384413  6.669456  7.059780   9.732668  5.865699  5.975860   \n",
      "SSA.P.18  6.762080  5.888897  5.929257   9.333012  5.110429  6.639432   \n",
      "SSA.P.19  6.888883  5.851999  6.271824   9.875977  5.694509  6.718095   \n",
      "SSA.P.20  6.110657  4.823076  5.800136   9.183178  3.784187  6.986361   \n",
      "SSA.P.21  6.724426  5.662410  7.044568  10.018633  5.732676  6.664638   \n",
      "\n",
      "              9994  predict  \n",
      "N1        4.038488       12  \n",
      "N2        4.389834       12  \n",
      "N3        4.215545       12  \n",
      "N4        3.717602       12  \n",
      "N5        3.735276       12  \n",
      "...            ...      ...  \n",
      "SSA.P.17  4.325534        8  \n",
      "SSA.P.18  3.561905        8  \n",
      "SSA.P.19  3.601179        8  \n",
      "SSA.P.20  2.433076        8  \n",
      "SSA.P.21  4.152600        8  \n",
      "\n",
      "[273 rows x 12978 columns]\n"
     ]
    },
    {
     "data": {
      "text/html": [
       "<div>\n",
       "<style scoped>\n",
       "    .dataframe tbody tr th:only-of-type {\n",
       "        vertical-align: middle;\n",
       "    }\n",
       "\n",
       "    .dataframe tbody tr th {\n",
       "        vertical-align: top;\n",
       "    }\n",
       "\n",
       "    .dataframe thead th {\n",
       "        text-align: right;\n",
       "    }\n",
       "</style>\n",
       "<table border=\"1\" class=\"dataframe\">\n",
       "  <thead>\n",
       "    <tr style=\"text-align: right;\">\n",
       "      <th></th>\n",
       "      <th>1</th>\n",
       "      <th>10</th>\n",
       "      <th>100</th>\n",
       "      <th>10000</th>\n",
       "      <th>100009676</th>\n",
       "      <th>10001</th>\n",
       "      <th>10003</th>\n",
       "      <th>10004</th>\n",
       "      <th>100048912</th>\n",
       "      <th>100049716</th>\n",
       "      <th>...</th>\n",
       "      <th>9985</th>\n",
       "      <th>9986</th>\n",
       "      <th>9987</th>\n",
       "      <th>9988</th>\n",
       "      <th>9989</th>\n",
       "      <th>999</th>\n",
       "      <th>9990</th>\n",
       "      <th>9993</th>\n",
       "      <th>9994</th>\n",
       "      <th>predict</th>\n",
       "    </tr>\n",
       "  </thead>\n",
       "  <tbody>\n",
       "    <tr>\n",
       "      <th>SSA.P.17</th>\n",
       "      <td>3.168203</td>\n",
       "      <td>5.081238</td>\n",
       "      <td>4.153700</td>\n",
       "      <td>3.908562</td>\n",
       "      <td>3.001588</td>\n",
       "      <td>4.820424</td>\n",
       "      <td>2.375645</td>\n",
       "      <td>4.338708</td>\n",
       "      <td>2.365043</td>\n",
       "      <td>4.184505</td>\n",
       "      <td>...</td>\n",
       "      <td>4.138788</td>\n",
       "      <td>5.260717</td>\n",
       "      <td>7.384413</td>\n",
       "      <td>6.669456</td>\n",
       "      <td>7.059780</td>\n",
       "      <td>9.732668</td>\n",
       "      <td>5.865699</td>\n",
       "      <td>5.975860</td>\n",
       "      <td>4.325534</td>\n",
       "      <td>8</td>\n",
       "    </tr>\n",
       "    <tr>\n",
       "      <th>SSA.P.18</th>\n",
       "      <td>3.410563</td>\n",
       "      <td>5.201103</td>\n",
       "      <td>4.187524</td>\n",
       "      <td>3.360113</td>\n",
       "      <td>3.153917</td>\n",
       "      <td>4.409013</td>\n",
       "      <td>1.234972</td>\n",
       "      <td>4.013469</td>\n",
       "      <td>3.833025</td>\n",
       "      <td>4.610452</td>\n",
       "      <td>...</td>\n",
       "      <td>3.597399</td>\n",
       "      <td>5.916054</td>\n",
       "      <td>6.762080</td>\n",
       "      <td>5.888897</td>\n",
       "      <td>5.929257</td>\n",
       "      <td>9.333012</td>\n",
       "      <td>5.110429</td>\n",
       "      <td>6.639432</td>\n",
       "      <td>3.561905</td>\n",
       "      <td>8</td>\n",
       "    </tr>\n",
       "    <tr>\n",
       "      <th>SSA.P.19</th>\n",
       "      <td>3.406845</td>\n",
       "      <td>5.773570</td>\n",
       "      <td>3.531418</td>\n",
       "      <td>3.018848</td>\n",
       "      <td>3.639411</td>\n",
       "      <td>4.293574</td>\n",
       "      <td>1.231854</td>\n",
       "      <td>3.649411</td>\n",
       "      <td>2.929373</td>\n",
       "      <td>4.054895</td>\n",
       "      <td>...</td>\n",
       "      <td>4.221285</td>\n",
       "      <td>5.698377</td>\n",
       "      <td>6.888883</td>\n",
       "      <td>5.851999</td>\n",
       "      <td>6.271824</td>\n",
       "      <td>9.875977</td>\n",
       "      <td>5.694509</td>\n",
       "      <td>6.718095</td>\n",
       "      <td>3.601179</td>\n",
       "      <td>8</td>\n",
       "    </tr>\n",
       "    <tr>\n",
       "      <th>SSA.P.20</th>\n",
       "      <td>4.509260</td>\n",
       "      <td>5.044354</td>\n",
       "      <td>4.378324</td>\n",
       "      <td>2.642289</td>\n",
       "      <td>3.138742</td>\n",
       "      <td>4.623012</td>\n",
       "      <td>1.817323</td>\n",
       "      <td>4.769140</td>\n",
       "      <td>4.351938</td>\n",
       "      <td>4.410926</td>\n",
       "      <td>...</td>\n",
       "      <td>4.085452</td>\n",
       "      <td>6.499885</td>\n",
       "      <td>6.110657</td>\n",
       "      <td>4.823076</td>\n",
       "      <td>5.800136</td>\n",
       "      <td>9.183178</td>\n",
       "      <td>3.784187</td>\n",
       "      <td>6.986361</td>\n",
       "      <td>2.433076</td>\n",
       "      <td>8</td>\n",
       "    </tr>\n",
       "    <tr>\n",
       "      <th>SSA.P.21</th>\n",
       "      <td>2.730068</td>\n",
       "      <td>4.509664</td>\n",
       "      <td>3.548250</td>\n",
       "      <td>3.175807</td>\n",
       "      <td>3.477712</td>\n",
       "      <td>4.862594</td>\n",
       "      <td>1.629351</td>\n",
       "      <td>4.782584</td>\n",
       "      <td>2.797801</td>\n",
       "      <td>3.911247</td>\n",
       "      <td>...</td>\n",
       "      <td>4.495704</td>\n",
       "      <td>5.875531</td>\n",
       "      <td>6.724426</td>\n",
       "      <td>5.662410</td>\n",
       "      <td>7.044568</td>\n",
       "      <td>10.018633</td>\n",
       "      <td>5.732676</td>\n",
       "      <td>6.664638</td>\n",
       "      <td>4.152600</td>\n",
       "      <td>8</td>\n",
       "    </tr>\n",
       "  </tbody>\n",
       "</table>\n",
       "<p>5 rows × 12978 columns</p>\n",
       "</div>"
      ],
      "text/plain": [
       "                 1        10       100     10000  100009676     10001  \\\n",
       "SSA.P.17  3.168203  5.081238  4.153700  3.908562   3.001588  4.820424   \n",
       "SSA.P.18  3.410563  5.201103  4.187524  3.360113   3.153917  4.409013   \n",
       "SSA.P.19  3.406845  5.773570  3.531418  3.018848   3.639411  4.293574   \n",
       "SSA.P.20  4.509260  5.044354  4.378324  2.642289   3.138742  4.623012   \n",
       "SSA.P.21  2.730068  4.509664  3.548250  3.175807   3.477712  4.862594   \n",
       "\n",
       "             10003     10004  100048912  100049716  ...      9985      9986  \\\n",
       "SSA.P.17  2.375645  4.338708   2.365043   4.184505  ...  4.138788  5.260717   \n",
       "SSA.P.18  1.234972  4.013469   3.833025   4.610452  ...  3.597399  5.916054   \n",
       "SSA.P.19  1.231854  3.649411   2.929373   4.054895  ...  4.221285  5.698377   \n",
       "SSA.P.20  1.817323  4.769140   4.351938   4.410926  ...  4.085452  6.499885   \n",
       "SSA.P.21  1.629351  4.782584   2.797801   3.911247  ...  4.495704  5.875531   \n",
       "\n",
       "              9987      9988      9989        999      9990      9993  \\\n",
       "SSA.P.17  7.384413  6.669456  7.059780   9.732668  5.865699  5.975860   \n",
       "SSA.P.18  6.762080  5.888897  5.929257   9.333012  5.110429  6.639432   \n",
       "SSA.P.19  6.888883  5.851999  6.271824   9.875977  5.694509  6.718095   \n",
       "SSA.P.20  6.110657  4.823076  5.800136   9.183178  3.784187  6.986361   \n",
       "SSA.P.21  6.724426  5.662410  7.044568  10.018633  5.732676  6.664638   \n",
       "\n",
       "              9994  predict  \n",
       "SSA.P.17  4.325534        8  \n",
       "SSA.P.18  3.561905        8  \n",
       "SSA.P.19  3.601179        8  \n",
       "SSA.P.20  2.433076        8  \n",
       "SSA.P.21  4.152600        8  \n",
       "\n",
       "[5 rows x 12978 columns]"
      ]
     },
     "execution_count": 17,
     "metadata": {},
     "output_type": "execute_result"
    }
   ],
   "source": [
    "# concatenate labels to df as a new column\n",
    "r = pd.concat([data, predict],axis=1)\n",
    "\n",
    "print(r)\n",
    "r.tail()"
   ]
  },
  {
   "cell_type": "code",
   "execution_count": null,
   "metadata": {},
   "outputs": [],
   "source": []
  },
  {
   "cell_type": "markdown",
   "metadata": {},
   "source": [
    "### PCA 수행\n",
    "https://ssungkang.tistory.com/entry/%EC%9D%B8%EA%B3%B5%EC%A7%80%EB%8A%A5-PCA-2-python-%EC%9D%84-%EC%82%AC%EC%9A%A9%ED%95%9C-PCA-%EC%8B%A4%EC%8A%B5 참고"
   ]
  },
  {
   "cell_type": "code",
   "execution_count": 18,
   "metadata": {
    "scrolled": true
   },
   "outputs": [],
   "source": [
    "X=data.to_numpy()"
   ]
  },
  {
   "cell_type": "code",
   "execution_count": 19,
   "metadata": {},
   "outputs": [
    {
     "data": {
      "text/plain": [
       "182"
      ]
     },
     "execution_count": 19,
     "metadata": {},
     "output_type": "execute_result"
    }
   ],
   "source": [
    "from sklearn.decomposition import PCA\n",
    "from sklearn.preprocessing import StandardScaler\n",
    "import numpy as np\n",
    "\n",
    "pca=PCA() #주성분 개수 지정하지 않고 클래스생성\n",
    "pca.fit(X)  #주성분 분석\n",
    "cumsum = np.cumsum(pca.explained_variance_ratio_) #분산의 설명량을 누적합\n",
    "num_d = np.argmax(cumsum >= 0.95) + 1 # 분산의 설명량이 95%이상 되는 차원의 수\n",
    "num_d"
   ]
  },
  {
   "cell_type": "code",
   "execution_count": null,
   "metadata": {},
   "outputs": [],
   "source": []
  },
  {
   "cell_type": "markdown",
   "metadata": {},
   "source": [
    "http://textmining.kr/?p=362"
   ]
  },
  {
   "cell_type": "code",
   "execution_count": 20,
   "metadata": {},
   "outputs": [
    {
     "data": {
      "text/html": [
       "<div>\n",
       "<style scoped>\n",
       "    .dataframe tbody tr th:only-of-type {\n",
       "        vertical-align: middle;\n",
       "    }\n",
       "\n",
       "    .dataframe tbody tr th {\n",
       "        vertical-align: top;\n",
       "    }\n",
       "\n",
       "    .dataframe thead th {\n",
       "        text-align: right;\n",
       "    }\n",
       "</style>\n",
       "<table border=\"1\" class=\"dataframe\">\n",
       "  <thead>\n",
       "    <tr style=\"text-align: right;\">\n",
       "      <th></th>\n",
       "      <th>0</th>\n",
       "      <th>1</th>\n",
       "      <th>2</th>\n",
       "      <th>3</th>\n",
       "      <th>4</th>\n",
       "      <th>5</th>\n",
       "      <th>6</th>\n",
       "      <th>7</th>\n",
       "      <th>8</th>\n",
       "      <th>9</th>\n",
       "      <th>...</th>\n",
       "      <th>172</th>\n",
       "      <th>173</th>\n",
       "      <th>174</th>\n",
       "      <th>175</th>\n",
       "      <th>176</th>\n",
       "      <th>177</th>\n",
       "      <th>178</th>\n",
       "      <th>179</th>\n",
       "      <th>180</th>\n",
       "      <th>181</th>\n",
       "    </tr>\n",
       "  </thead>\n",
       "  <tbody>\n",
       "    <tr>\n",
       "      <th>0</th>\n",
       "      <td>-24.553686</td>\n",
       "      <td>-15.015256</td>\n",
       "      <td>-5.831985</td>\n",
       "      <td>16.482608</td>\n",
       "      <td>-6.824852</td>\n",
       "      <td>-1.089348</td>\n",
       "      <td>-8.464772</td>\n",
       "      <td>1.692172</td>\n",
       "      <td>-2.058985</td>\n",
       "      <td>7.538832</td>\n",
       "      <td>...</td>\n",
       "      <td>-0.426893</td>\n",
       "      <td>-0.768461</td>\n",
       "      <td>-0.561411</td>\n",
       "      <td>1.165550</td>\n",
       "      <td>0.985727</td>\n",
       "      <td>-1.429772</td>\n",
       "      <td>-1.821885</td>\n",
       "      <td>-0.171710</td>\n",
       "      <td>-1.368632</td>\n",
       "      <td>0.121021</td>\n",
       "    </tr>\n",
       "    <tr>\n",
       "      <th>1</th>\n",
       "      <td>-25.693020</td>\n",
       "      <td>-9.528142</td>\n",
       "      <td>-10.548766</td>\n",
       "      <td>16.507131</td>\n",
       "      <td>-10.318700</td>\n",
       "      <td>2.238103</td>\n",
       "      <td>0.674255</td>\n",
       "      <td>0.170031</td>\n",
       "      <td>1.498166</td>\n",
       "      <td>8.710122</td>\n",
       "      <td>...</td>\n",
       "      <td>1.056524</td>\n",
       "      <td>0.912954</td>\n",
       "      <td>0.521402</td>\n",
       "      <td>0.050387</td>\n",
       "      <td>-0.190006</td>\n",
       "      <td>-0.310618</td>\n",
       "      <td>-0.542915</td>\n",
       "      <td>-1.520767</td>\n",
       "      <td>1.486780</td>\n",
       "      <td>0.122532</td>\n",
       "    </tr>\n",
       "    <tr>\n",
       "      <th>2</th>\n",
       "      <td>-28.868225</td>\n",
       "      <td>-19.467795</td>\n",
       "      <td>-4.592718</td>\n",
       "      <td>11.316603</td>\n",
       "      <td>-3.060169</td>\n",
       "      <td>-8.172802</td>\n",
       "      <td>-3.670357</td>\n",
       "      <td>-2.333017</td>\n",
       "      <td>-2.352499</td>\n",
       "      <td>3.636330</td>\n",
       "      <td>...</td>\n",
       "      <td>1.816342</td>\n",
       "      <td>1.145822</td>\n",
       "      <td>-0.679539</td>\n",
       "      <td>-0.500959</td>\n",
       "      <td>-0.311539</td>\n",
       "      <td>-0.186828</td>\n",
       "      <td>1.566382</td>\n",
       "      <td>2.294831</td>\n",
       "      <td>-0.266609</td>\n",
       "      <td>0.438142</td>\n",
       "    </tr>\n",
       "    <tr>\n",
       "      <th>3</th>\n",
       "      <td>-40.097422</td>\n",
       "      <td>13.818822</td>\n",
       "      <td>6.249908</td>\n",
       "      <td>-1.348040</td>\n",
       "      <td>3.469031</td>\n",
       "      <td>-2.728407</td>\n",
       "      <td>-4.220491</td>\n",
       "      <td>-8.264833</td>\n",
       "      <td>0.554320</td>\n",
       "      <td>-6.210850</td>\n",
       "      <td>...</td>\n",
       "      <td>0.469449</td>\n",
       "      <td>0.993128</td>\n",
       "      <td>1.470901</td>\n",
       "      <td>-0.386907</td>\n",
       "      <td>0.150276</td>\n",
       "      <td>0.299350</td>\n",
       "      <td>0.792087</td>\n",
       "      <td>0.322922</td>\n",
       "      <td>-0.568536</td>\n",
       "      <td>0.397358</td>\n",
       "    </tr>\n",
       "    <tr>\n",
       "      <th>4</th>\n",
       "      <td>-38.785701</td>\n",
       "      <td>11.375474</td>\n",
       "      <td>-1.382093</td>\n",
       "      <td>1.055907</td>\n",
       "      <td>-2.043562</td>\n",
       "      <td>2.978032</td>\n",
       "      <td>2.238370</td>\n",
       "      <td>-8.545329</td>\n",
       "      <td>2.491071</td>\n",
       "      <td>-5.504408</td>\n",
       "      <td>...</td>\n",
       "      <td>0.197735</td>\n",
       "      <td>0.926956</td>\n",
       "      <td>3.205617</td>\n",
       "      <td>-0.502877</td>\n",
       "      <td>-0.507123</td>\n",
       "      <td>0.112172</td>\n",
       "      <td>-0.151523</td>\n",
       "      <td>-1.586798</td>\n",
       "      <td>1.263161</td>\n",
       "      <td>0.335960</td>\n",
       "    </tr>\n",
       "  </tbody>\n",
       "</table>\n",
       "<p>5 rows × 182 columns</p>\n",
       "</div>"
      ],
      "text/plain": [
       "         0          1          2          3          4         5         6    \\\n",
       "0 -24.553686 -15.015256  -5.831985  16.482608  -6.824852 -1.089348 -8.464772   \n",
       "1 -25.693020  -9.528142 -10.548766  16.507131 -10.318700  2.238103  0.674255   \n",
       "2 -28.868225 -19.467795  -4.592718  11.316603  -3.060169 -8.172802 -3.670357   \n",
       "3 -40.097422  13.818822   6.249908  -1.348040   3.469031 -2.728407 -4.220491   \n",
       "4 -38.785701  11.375474  -1.382093   1.055907  -2.043562  2.978032  2.238370   \n",
       "\n",
       "        7         8         9    ...       172       173       174       175  \\\n",
       "0  1.692172 -2.058985  7.538832  ... -0.426893 -0.768461 -0.561411  1.165550   \n",
       "1  0.170031  1.498166  8.710122  ...  1.056524  0.912954  0.521402  0.050387   \n",
       "2 -2.333017 -2.352499  3.636330  ...  1.816342  1.145822 -0.679539 -0.500959   \n",
       "3 -8.264833  0.554320 -6.210850  ...  0.469449  0.993128  1.470901 -0.386907   \n",
       "4 -8.545329  2.491071 -5.504408  ...  0.197735  0.926956  3.205617 -0.502877   \n",
       "\n",
       "        176       177       178       179       180       181  \n",
       "0  0.985727 -1.429772 -1.821885 -0.171710 -1.368632  0.121021  \n",
       "1 -0.190006 -0.310618 -0.542915 -1.520767  1.486780  0.122532  \n",
       "2 -0.311539 -0.186828  1.566382  2.294831 -0.266609  0.438142  \n",
       "3  0.150276  0.299350  0.792087  0.322922 -0.568536  0.397358  \n",
       "4 -0.507123  0.112172 -0.151523 -1.586798  1.263161  0.335960  \n",
       "\n",
       "[5 rows x 182 columns]"
      ]
     },
     "execution_count": 20,
     "metadata": {},
     "output_type": "execute_result"
    }
   ],
   "source": [
    "pca = PCA(n_components = 0.95)\n",
    "principalComponents = pca.fit_transform(data)\n",
    "principalDf = pd.DataFrame(data = principalComponents)\n",
    "\n",
    "principalDf.head()"
   ]
  },
  {
   "cell_type": "code",
   "execution_count": 21,
   "metadata": {},
   "outputs": [
    {
     "data": {
      "text/html": [
       "<div>\n",
       "<style scoped>\n",
       "    .dataframe tbody tr th:only-of-type {\n",
       "        vertical-align: middle;\n",
       "    }\n",
       "\n",
       "    .dataframe tbody tr th {\n",
       "        vertical-align: top;\n",
       "    }\n",
       "\n",
       "    .dataframe thead th {\n",
       "        text-align: right;\n",
       "    }\n",
       "</style>\n",
       "<table border=\"1\" class=\"dataframe\">\n",
       "  <thead>\n",
       "    <tr style=\"text-align: right;\">\n",
       "      <th></th>\n",
       "      <th>predict</th>\n",
       "    </tr>\n",
       "  </thead>\n",
       "  <tbody>\n",
       "    <tr>\n",
       "      <th>0</th>\n",
       "      <td>12</td>\n",
       "    </tr>\n",
       "    <tr>\n",
       "      <th>1</th>\n",
       "      <td>12</td>\n",
       "    </tr>\n",
       "    <tr>\n",
       "      <th>2</th>\n",
       "      <td>12</td>\n",
       "    </tr>\n",
       "    <tr>\n",
       "      <th>3</th>\n",
       "      <td>12</td>\n",
       "    </tr>\n",
       "    <tr>\n",
       "      <th>4</th>\n",
       "      <td>12</td>\n",
       "    </tr>\n",
       "  </tbody>\n",
       "</table>\n",
       "</div>"
      ],
      "text/plain": [
       "   predict\n",
       "0       12\n",
       "1       12\n",
       "2       12\n",
       "3       12\n",
       "4       12"
      ]
     },
     "execution_count": 21,
     "metadata": {},
     "output_type": "execute_result"
    }
   ],
   "source": [
    "y=pd.DataFrame(r['predict'].tolist())\n",
    "y.columns=['predict']\n",
    "y.head()"
   ]
  },
  {
   "cell_type": "code",
   "execution_count": 22,
   "metadata": {},
   "outputs": [
    {
     "data": {
      "text/html": [
       "<div>\n",
       "<style scoped>\n",
       "    .dataframe tbody tr th:only-of-type {\n",
       "        vertical-align: middle;\n",
       "    }\n",
       "\n",
       "    .dataframe tbody tr th {\n",
       "        vertical-align: top;\n",
       "    }\n",
       "\n",
       "    .dataframe thead th {\n",
       "        text-align: right;\n",
       "    }\n",
       "</style>\n",
       "<table border=\"1\" class=\"dataframe\">\n",
       "  <thead>\n",
       "    <tr style=\"text-align: right;\">\n",
       "      <th></th>\n",
       "      <th>0</th>\n",
       "      <th>1</th>\n",
       "      <th>2</th>\n",
       "      <th>3</th>\n",
       "      <th>4</th>\n",
       "      <th>5</th>\n",
       "      <th>6</th>\n",
       "      <th>7</th>\n",
       "      <th>8</th>\n",
       "      <th>9</th>\n",
       "      <th>...</th>\n",
       "      <th>173</th>\n",
       "      <th>174</th>\n",
       "      <th>175</th>\n",
       "      <th>176</th>\n",
       "      <th>177</th>\n",
       "      <th>178</th>\n",
       "      <th>179</th>\n",
       "      <th>180</th>\n",
       "      <th>181</th>\n",
       "      <th>predict</th>\n",
       "    </tr>\n",
       "  </thead>\n",
       "  <tbody>\n",
       "    <tr>\n",
       "      <th>0</th>\n",
       "      <td>-24.553686</td>\n",
       "      <td>-15.015256</td>\n",
       "      <td>-5.831985</td>\n",
       "      <td>16.482608</td>\n",
       "      <td>-6.824852</td>\n",
       "      <td>-1.089348</td>\n",
       "      <td>-8.464772</td>\n",
       "      <td>1.692172</td>\n",
       "      <td>-2.058985</td>\n",
       "      <td>7.538832</td>\n",
       "      <td>...</td>\n",
       "      <td>-0.768461</td>\n",
       "      <td>-0.561411</td>\n",
       "      <td>1.165550</td>\n",
       "      <td>0.985727</td>\n",
       "      <td>-1.429772</td>\n",
       "      <td>-1.821885</td>\n",
       "      <td>-0.171710</td>\n",
       "      <td>-1.368632</td>\n",
       "      <td>0.121021</td>\n",
       "      <td>12</td>\n",
       "    </tr>\n",
       "    <tr>\n",
       "      <th>1</th>\n",
       "      <td>-25.693020</td>\n",
       "      <td>-9.528142</td>\n",
       "      <td>-10.548766</td>\n",
       "      <td>16.507131</td>\n",
       "      <td>-10.318700</td>\n",
       "      <td>2.238103</td>\n",
       "      <td>0.674255</td>\n",
       "      <td>0.170031</td>\n",
       "      <td>1.498166</td>\n",
       "      <td>8.710122</td>\n",
       "      <td>...</td>\n",
       "      <td>0.912954</td>\n",
       "      <td>0.521402</td>\n",
       "      <td>0.050387</td>\n",
       "      <td>-0.190006</td>\n",
       "      <td>-0.310618</td>\n",
       "      <td>-0.542915</td>\n",
       "      <td>-1.520767</td>\n",
       "      <td>1.486780</td>\n",
       "      <td>0.122532</td>\n",
       "      <td>12</td>\n",
       "    </tr>\n",
       "    <tr>\n",
       "      <th>2</th>\n",
       "      <td>-28.868225</td>\n",
       "      <td>-19.467795</td>\n",
       "      <td>-4.592718</td>\n",
       "      <td>11.316603</td>\n",
       "      <td>-3.060169</td>\n",
       "      <td>-8.172802</td>\n",
       "      <td>-3.670357</td>\n",
       "      <td>-2.333017</td>\n",
       "      <td>-2.352499</td>\n",
       "      <td>3.636330</td>\n",
       "      <td>...</td>\n",
       "      <td>1.145822</td>\n",
       "      <td>-0.679539</td>\n",
       "      <td>-0.500959</td>\n",
       "      <td>-0.311539</td>\n",
       "      <td>-0.186828</td>\n",
       "      <td>1.566382</td>\n",
       "      <td>2.294831</td>\n",
       "      <td>-0.266609</td>\n",
       "      <td>0.438142</td>\n",
       "      <td>12</td>\n",
       "    </tr>\n",
       "    <tr>\n",
       "      <th>3</th>\n",
       "      <td>-40.097422</td>\n",
       "      <td>13.818822</td>\n",
       "      <td>6.249908</td>\n",
       "      <td>-1.348040</td>\n",
       "      <td>3.469031</td>\n",
       "      <td>-2.728407</td>\n",
       "      <td>-4.220491</td>\n",
       "      <td>-8.264833</td>\n",
       "      <td>0.554320</td>\n",
       "      <td>-6.210850</td>\n",
       "      <td>...</td>\n",
       "      <td>0.993128</td>\n",
       "      <td>1.470901</td>\n",
       "      <td>-0.386907</td>\n",
       "      <td>0.150276</td>\n",
       "      <td>0.299350</td>\n",
       "      <td>0.792087</td>\n",
       "      <td>0.322922</td>\n",
       "      <td>-0.568536</td>\n",
       "      <td>0.397358</td>\n",
       "      <td>12</td>\n",
       "    </tr>\n",
       "    <tr>\n",
       "      <th>4</th>\n",
       "      <td>-38.785701</td>\n",
       "      <td>11.375474</td>\n",
       "      <td>-1.382093</td>\n",
       "      <td>1.055907</td>\n",
       "      <td>-2.043562</td>\n",
       "      <td>2.978032</td>\n",
       "      <td>2.238370</td>\n",
       "      <td>-8.545329</td>\n",
       "      <td>2.491071</td>\n",
       "      <td>-5.504408</td>\n",
       "      <td>...</td>\n",
       "      <td>0.926956</td>\n",
       "      <td>3.205617</td>\n",
       "      <td>-0.502877</td>\n",
       "      <td>-0.507123</td>\n",
       "      <td>0.112172</td>\n",
       "      <td>-0.151523</td>\n",
       "      <td>-1.586798</td>\n",
       "      <td>1.263161</td>\n",
       "      <td>0.335960</td>\n",
       "      <td>12</td>\n",
       "    </tr>\n",
       "  </tbody>\n",
       "</table>\n",
       "<p>5 rows × 183 columns</p>\n",
       "</div>"
      ],
      "text/plain": [
       "           0          1          2          3          4         5         6  \\\n",
       "0 -24.553686 -15.015256  -5.831985  16.482608  -6.824852 -1.089348 -8.464772   \n",
       "1 -25.693020  -9.528142 -10.548766  16.507131 -10.318700  2.238103  0.674255   \n",
       "2 -28.868225 -19.467795  -4.592718  11.316603  -3.060169 -8.172802 -3.670357   \n",
       "3 -40.097422  13.818822   6.249908  -1.348040   3.469031 -2.728407 -4.220491   \n",
       "4 -38.785701  11.375474  -1.382093   1.055907  -2.043562  2.978032  2.238370   \n",
       "\n",
       "          7         8         9  ...       173       174       175       176  \\\n",
       "0  1.692172 -2.058985  7.538832  ... -0.768461 -0.561411  1.165550  0.985727   \n",
       "1  0.170031  1.498166  8.710122  ...  0.912954  0.521402  0.050387 -0.190006   \n",
       "2 -2.333017 -2.352499  3.636330  ...  1.145822 -0.679539 -0.500959 -0.311539   \n",
       "3 -8.264833  0.554320 -6.210850  ...  0.993128  1.470901 -0.386907  0.150276   \n",
       "4 -8.545329  2.491071 -5.504408  ...  0.926956  3.205617 -0.502877 -0.507123   \n",
       "\n",
       "        177       178       179       180       181  predict  \n",
       "0 -1.429772 -1.821885 -0.171710 -1.368632  0.121021       12  \n",
       "1 -0.310618 -0.542915 -1.520767  1.486780  0.122532       12  \n",
       "2 -0.186828  1.566382  2.294831 -0.266609  0.438142       12  \n",
       "3  0.299350  0.792087  0.322922 -0.568536  0.397358       12  \n",
       "4  0.112172 -0.151523 -1.586798  1.263161  0.335960       12  \n",
       "\n",
       "[5 rows x 183 columns]"
      ]
     },
     "execution_count": 22,
     "metadata": {},
     "output_type": "execute_result"
    }
   ],
   "source": [
    "finalDataFrame =pd.concat([principalDf, y], axis=1)\n",
    "finalDataFrame.head()"
   ]
  },
  {
   "cell_type": "code",
   "execution_count": 23,
   "metadata": {
    "scrolled": true
   },
   "outputs": [
    {
     "data": {
      "text/plain": [
       "[12, 1, 11, 5, 8, 9, 3, 6, 4, 10, 2, 7]"
      ]
     },
     "execution_count": 23,
     "metadata": {},
     "output_type": "execute_result"
    }
   ],
   "source": [
    "labels = []\n",
    "yList = y.values.tolist()\n",
    "for label in yList:\n",
    "    if label[0] not in labels:\n",
    "        labels.append(label[0])\n",
    "    \n",
    "labels"
   ]
  },
  {
   "cell_type": "code",
   "execution_count": 24,
   "metadata": {
    "scrolled": true
   },
   "outputs": [
    {
     "data": {
      "text/plain": [
       "[1, 2, 3, 4, 5, 6, 7, 8, 9, 10, 11, 12]"
      ]
     },
     "execution_count": 24,
     "metadata": {},
     "output_type": "execute_result"
    }
   ],
   "source": [
    "sortedLabels=sorted(labels)\n",
    "sortedLabels"
   ]
  },
  {
   "cell_type": "markdown",
   "metadata": {},
   "source": [
    "### PCA만 시각화"
   ]
  },
  {
   "cell_type": "code",
   "execution_count": 25,
   "metadata": {},
   "outputs": [
    {
     "data": {
      "image/png": "[encoded data removed]",
      "text/plain": [
       "<Figure size 1008x1008 with 1 Axes>"
      ]
     },
     "metadata": {
      "needs_background": "light"
     },
     "output_type": "display_data"
    }
   ],
   "source": [
    "fig = plt.figure(figsize = (14,14))\n",
    "ax = fig.add_subplot(1,1,1) \n",
    "ax.set_xlabel('Principal Component 1', fontsize = 15)\n",
    "ax.set_ylabel('Principal Component 2', fontsize = 15)\n",
    "ax.set_title('2 Component PCA', fontsize = 20)\n",
    "'''\n",
    "colors = [\"black\",\"grey\",\"lightgray\",\"lightcoral\",\"maroon\",\n",
    "         \"mistyrose\",\"coral\",\"peachpuff\",\"darkorange\",\"darkgoldenrod\",\n",
    "         \"olive\",\"yellowgreen\",\"lawngreen\",\"lightgreen\",\"g\",\n",
    "         \"mediumseagreen\",\"mediumaquamarine\",\"darkslategray\",\"c\",\"cadetblue\",\n",
    "         \"dodgerblue\",\"slategrey\",\"darkblue\",\"rebeccapurple\",\"crimson\",\n",
    "          \"fuchsia\"]\n",
    "'''\n",
    "colors=[\"lightgray\", \"blue\", \"black\", \"darkorange\", \"green\", \"pink\", \n",
    "        \"coral\", \"crimson\", \"fuchsia\", \"black\", \"olive\", \"gold\", \"red\"]\n",
    "\n",
    "for label, color in zip(sortedLabels, colors):\n",
    "    indicesToKeep = finalDataFrame['predict'] == label\n",
    "    ax.scatter(\n",
    "        finalDataFrame.loc[indicesToKeep, 0]\n",
    "               , finalDataFrame.loc[indicesToKeep, 1]\n",
    "              \n",
    "               , c = color\n",
    "               , s = 30\n",
    "              )\n",
    "\n",
    "ax.legend(combine_sampleName)\n",
    "ax.grid()\n",
    "plt.savefig(\"only-PCA.png\")"
   ]
  },
  {
   "cell_type": "code",
   "execution_count": null,
   "metadata": {},
   "outputs": [],
   "source": []
  },
  {
   "cell_type": "code",
   "execution_count": null,
   "metadata": {},
   "outputs": [],
   "source": []
  },
  {
   "cell_type": "code",
   "execution_count": null,
   "metadata": {},
   "outputs": [],
   "source": []
  },
  {
   "cell_type": "code",
   "execution_count": 26,
   "metadata": {},
   "outputs": [
    {
     "ename": "SyntaxError",
     "evalue": "invalid syntax (<ipython-input-26-1a9807ea7fbb>, line 3)",
     "output_type": "error",
     "traceback": [
      "\u001b[1;36m  File \u001b[1;32m\"<ipython-input-26-1a9807ea7fbb>\"\u001b[1;36m, line \u001b[1;32m3\u001b[0m\n\u001b[1;33m    pip install pyclustering\u001b[0m\n\u001b[1;37m              ^\u001b[0m\n\u001b[1;31mSyntaxError\u001b[0m\u001b[1;31m:\u001b[0m invalid syntax\n"
     ]
    }
   ],
   "source": [
    "#pip3 install pyclustering\n",
    "\n",
    "pip install pyclustering"
   ]
  },
  {
   "cell_type": "markdown",
   "metadata": {},
   "source": [
    "## pyclustering\n",
    "### cure"
   ]
  },
  {
   "cell_type": "markdown",
   "metadata": {},
   "source": [
    "https://pyclustering.github.io/  여기에서 패키지 파일 다운 받음"
   ]
  },
  {
   "cell_type": "code",
   "execution_count": 26,
   "metadata": {},
   "outputs": [
    {
     "data": {
      "text/plain": [
       "'C:\\\\anaconda\\\\python.exe'"
      ]
     },
     "execution_count": 26,
     "metadata": {},
     "output_type": "execute_result"
    }
   ],
   "source": [
    "import sys\n",
    "sys.executable"
   ]
  },
  {
   "cell_type": "code",
   "execution_count": 27,
   "metadata": {},
   "outputs": [
    {
     "name": "stdout",
     "output_type": "stream",
     "text": [
      "C:\\Users\\송승민\\AppData\\Roaming\\jupyter\n"
     ]
    }
   ],
   "source": [
    "from jupyter_core.paths import jupyter_data_dir\n",
    "print(jupyter_data_dir())"
   ]
  },
  {
   "cell_type": "markdown",
   "metadata": {},
   "source": [
    "cure는 1,2,3차원만 됨.\n",
    "- cure는 numpy로 만들고, birch는 list로 만들어서 수행함.\n",
    "\n",
    "고차원 하려면, pyclustering의 cluster_visualizer_multidim 해야 하는데, 별로 좋은 방법 같지는 않음..."
   ]
  },
  {
   "cell_type": "code",
   "execution_count": 37,
   "metadata": {},
   "outputs": [
    {
     "name": "stdout",
     "output_type": "stream",
     "text": [
      "(273, 183)\n"
     ]
    }
   ],
   "source": [
    "print(finalDataFrame.shape)"
   ]
  },
  {
   "cell_type": "code",
   "execution_count": 41,
   "metadata": {
    "scrolled": true
   },
   "outputs": [
    {
     "data": {
      "text/plain": [
       "[[86, 206],\n",
       " [271,\n",
       "  138,\n",
       "  137,\n",
       "  143,\n",
       "  173,\n",
       "  185,\n",
       "  87,\n",
       "  94,\n",
       "  201,\n",
       "  184,\n",
       "  189,\n",
       "  198,\n",
       "  27,\n",
       "  131,\n",
       "  102,\n",
       "  104,\n",
       "  93,\n",
       "  135,\n",
       "  169,\n",
       "  37,\n",
       "  182,\n",
       "  17,\n",
       "  85,\n",
       "  207,\n",
       "  164,\n",
       "  3,\n",
       "  5,\n",
       "  4,\n",
       "  19,\n",
       "  82,\n",
       "  74,\n",
       "  6,\n",
       "  15,\n",
       "  141,\n",
       "  8,\n",
       "  65,\n",
       "  46,\n",
       "  11,\n",
       "  10,\n",
       "  12,\n",
       "  9,\n",
       "  16,\n",
       "  18,\n",
       "  205,\n",
       "  7,\n",
       "  13,\n",
       "  68,\n",
       "  67,\n",
       "  167,\n",
       "  0,\n",
       "  14,\n",
       "  1,\n",
       "  66,\n",
       "  2,\n",
       "  176,\n",
       "  204,\n",
       "  89,\n",
       "  91,\n",
       "  217,\n",
       "  226,\n",
       "  225,\n",
       "  75,\n",
       "  126,\n",
       "  214,\n",
       "  101,\n",
       "  21,\n",
       "  265,\n",
       "  115,\n",
       "  152,\n",
       "  194,\n",
       "  111,\n",
       "  103,\n",
       "  31,\n",
       "  116,\n",
       "  105,\n",
       "  30,\n",
       "  154,\n",
       "  144,\n",
       "  106,\n",
       "  168,\n",
       "  268,\n",
       "  44,\n",
       "  142,\n",
       "  96,\n",
       "  38,\n",
       "  51,\n",
       "  162,\n",
       "  77,\n",
       "  35,\n",
       "  171,\n",
       "  41,\n",
       "  134,\n",
       "  69,\n",
       "  166,\n",
       "  109,\n",
       "  78,\n",
       "  158,\n",
       "  193,\n",
       "  150,\n",
       "  88,\n",
       "  170,\n",
       "  180,\n",
       "  254,\n",
       "  24,\n",
       "  110,\n",
       "  267,\n",
       "  255,\n",
       "  165,\n",
       "  121,\n",
       "  28,\n",
       "  163,\n",
       "  36,\n",
       "  179,\n",
       "  235,\n",
       "  124,\n",
       "  39,\n",
       "  147,\n",
       "  191,\n",
       "  175,\n",
       "  79,\n",
       "  108,\n",
       "  133,\n",
       "  157,\n",
       "  22,\n",
       "  132,\n",
       "  92,\n",
       "  223,\n",
       "  192,\n",
       "  252,\n",
       "  33,\n",
       "  253,\n",
       "  257,\n",
       "  42,\n",
       "  272,\n",
       "  119,\n",
       "  148,\n",
       "  23,\n",
       "  118,\n",
       "  187,\n",
       "  125,\n",
       "  190,\n",
       "  62,\n",
       "  266,\n",
       "  72,\n",
       "  146,\n",
       "  256,\n",
       "  224,\n",
       "  139,\n",
       "  270,\n",
       "  20,\n",
       "  63,\n",
       "  114,\n",
       "  25,\n",
       "  113,\n",
       "  129,\n",
       "  64,\n",
       "  97,\n",
       "  151,\n",
       "  83,\n",
       "  136,\n",
       "  197,\n",
       "  263,\n",
       "  26,\n",
       "  156,\n",
       "  230,\n",
       "  29,\n",
       "  53,\n",
       "  174,\n",
       "  172,\n",
       "  98,\n",
       "  183,\n",
       "  260,\n",
       "  261,\n",
       "  159,\n",
       "  140,\n",
       "  227,\n",
       "  107,\n",
       "  237,\n",
       "  128,\n",
       "  269,\n",
       "  188,\n",
       "  258,\n",
       "  50,\n",
       "  248,\n",
       "  153,\n",
       "  160,\n",
       "  202,\n",
       "  259,\n",
       "  231,\n",
       "  120,\n",
       "  228,\n",
       "  145,\n",
       "  229,\n",
       "  262,\n",
       "  84,\n",
       "  117,\n",
       "  81,\n",
       "  127,\n",
       "  195,\n",
       "  100,\n",
       "  218,\n",
       "  238,\n",
       "  251,\n",
       "  233,\n",
       "  222,\n",
       "  249,\n",
       "  95,\n",
       "  155,\n",
       "  219,\n",
       "  246,\n",
       "  99,\n",
       "  232,\n",
       "  245,\n",
       "  241,\n",
       "  90,\n",
       "  203,\n",
       "  40,\n",
       "  243,\n",
       "  213,\n",
       "  186,\n",
       "  244,\n",
       "  130,\n",
       "  177,\n",
       "  34,\n",
       "  264,\n",
       "  242,\n",
       "  212,\n",
       "  240,\n",
       "  70,\n",
       "  196,\n",
       "  149,\n",
       "  247,\n",
       "  178,\n",
       "  71,\n",
       "  250,\n",
       "  80,\n",
       "  181,\n",
       "  200,\n",
       "  122,\n",
       "  221,\n",
       "  239,\n",
       "  216,\n",
       "  199,\n",
       "  215,\n",
       "  234,\n",
       "  73,\n",
       "  220,\n",
       "  47,\n",
       "  49,\n",
       "  61,\n",
       "  236,\n",
       "  32,\n",
       "  54,\n",
       "  43,\n",
       "  52,\n",
       "  45,\n",
       "  55,\n",
       "  56,\n",
       "  58,\n",
       "  57,\n",
       "  112,\n",
       "  59,\n",
       "  48,\n",
       "  123],\n",
       " [161],\n",
       " [76],\n",
       " [209, 60, 211, 208, 210]]"
      ]
     },
     "execution_count": 41,
     "metadata": {},
     "output_type": "execute_result"
    }
   ],
   "source": [
    "import pyclustering\n",
    "from pyclustering.cluster import cluster_visualizer\n",
    "from pyclustering.cluster.cure import cure\n",
    "from pyclustering.utils import read_sample\n",
    "from pyclustering.samples.definitions import FCPS_SAMPLES\n",
    "\n",
    "# Input data in following format [ [0.1, 0.5], [0.3, 0.1], ... ].\n",
    "#input_data = read_sample(FCPS_SAMPLES.SAMPLE_LSUN);\n",
    "# Allocate three clusters.\n",
    "\n",
    "X=finalDataFrame.iloc[:,[0,1]].to_numpy()\n",
    "cure_instance = cure(X, 5) # cure 알고리즘 적용\n",
    "cure_instance.process() # process()를 해야 clusters를 구할 수 있음.\n",
    "\n",
    "# clusters에 있는 클러스터(list 1개)는 finalDataFrame의 인덱스 번호로 구성.\n",
    "clusters = cure_instance.get_clusters() # 5개 클러스터 리턴\n",
    "\n",
    "clusters"
   ]
  },
  {
   "cell_type": "code",
   "execution_count": 30,
   "metadata": {
    "scrolled": false
   },
   "outputs": [
    {
     "data": {
      "image/png": "[encoded data removed]",
      "text/plain": [
       "<Figure size 432x288 with 1 Axes>"
      ]
     },
     "metadata": {
      "needs_background": "light"
     },
     "output_type": "display_data"
    },
    {
     "data": {
      "image/png": "[encoded data removed]",
      "text/plain": [
       "<Figure size 432x288 with 1 Axes>"
      ]
     },
     "execution_count": 30,
     "metadata": {},
     "output_type": "execute_result"
    }
   ],
   "source": [
    "# Visualize allocated clusters.\n",
    "visualizer = cluster_visualizer()\n",
    "visualizer.append_clusters(clusters, X) # 분류된 clusters와 X를 넣어, 시각화\n",
    "visualizer.show()"
   ]
  },
  {
   "cell_type": "code",
   "execution_count": null,
   "metadata": {},
   "outputs": [],
   "source": []
  },
  {
   "cell_type": "markdown",
   "metadata": {},
   "source": [
    "k=2~9"
   ]
  },
  {
   "cell_type": "code",
   "execution_count": 34,
   "metadata": {
    "scrolled": false
   },
   "outputs": [
    {
     "name": "stdout",
     "output_type": "stream",
     "text": [
      "\n",
      "k= 2\n"
     ]
    },
    {
     "data": {
      "image/png": "[encoded data removed]",
      "text/plain": [
       "<Figure size 432x288 with 1 Axes>"
      ]
     },
     "metadata": {
      "needs_background": "light"
     },
     "output_type": "display_data"
    },
    {
     "data": {
      "image/png": "[encoded data removed]",
      "text/plain": [
       "<Figure size 432x288 with 1 Axes>"
      ]
     },
     "metadata": {
      "needs_background": "light"
     },
     "output_type": "display_data"
    },
    {
     "name": "stdout",
     "output_type": "stream",
     "text": [
      "\n",
      "k= 3\n"
     ]
    },
    {
     "data": {
      "image/png": "[encoded data removed]",
      "text/plain": [
       "<Figure size 432x288 with 1 Axes>"
      ]
     },
     "metadata": {
      "needs_background": "light"
     },
     "output_type": "display_data"
    },
    {
     "data": {
      "image/png": "[encoded data removed]",
      "text/plain": [
       "<Figure size 432x288 with 1 Axes>"
      ]
     },
     "metadata": {
      "needs_background": "light"
     },
     "output_type": "display_data"
    },
    {
     "name": "stdout",
     "output_type": "stream",
     "text": [
      "\n",
      "k= 4\n"
     ]
    },
    {
     "data": {
      "image/png": "[encoded data removed]",
      "text/plain": [
       "<Figure size 432x288 with 1 Axes>"
      ]
     },
     "metadata": {
      "needs_background": "light"
     },
     "output_type": "display_data"
    },
    {
     "data": {
      "image/png": "[encoded data removed]",
      "text/plain": [
       "<Figure size 432x288 with 1 Axes>"
      ]
     },
     "metadata": {
      "needs_background": "light"
     },
     "output_type": "display_data"
    },
    {
     "name": "stdout",
     "output_type": "stream",
     "text": [
      "\n",
      "k= 5\n"
     ]
    },
    {
     "data": {
      "image/png": "[encoded data removed]",
      "text/plain": [
       "<Figure size 432x288 with 1 Axes>"
      ]
     },
     "metadata": {
      "needs_background": "light"
     },
     "output_type": "display_data"
    },
    {
     "data": {
      "image/png": "[encoded data removed]",
      "text/plain": [
       "<Figure size 432x288 with 1 Axes>"
      ]
     },
     "metadata": {
      "needs_background": "light"
     },
     "output_type": "display_data"
    },
    {
     "name": "stdout",
     "output_type": "stream",
     "text": [
      "\n",
      "k= 6\n"
     ]
    },
    {
     "data": {
      "image/png": "[encoded data removed]",
      "text/plain": [
       "<Figure size 432x288 with 1 Axes>"
      ]
     },
     "metadata": {
      "needs_background": "light"
     },
     "output_type": "display_data"
    },
    {
     "data": {
      "image/png": "[encoded data removed]",
      "text/plain": [
       "<Figure size 432x288 with 1 Axes>"
      ]
     },
     "metadata": {
      "needs_background": "light"
     },
     "output_type": "display_data"
    },
    {
     "name": "stdout",
     "output_type": "stream",
     "text": [
      "\n",
      "k= 7\n"
     ]
    },
    {
     "data": {
      "image/png": "[encoded data removed]",
      "text/plain": [
       "<Figure size 432x288 with 1 Axes>"
      ]
     },
     "metadata": {
      "needs_background": "light"
     },
     "output_type": "display_data"
    },
    {
     "data": {
      "image/png": "[encoded data removed]",
      "text/plain": [
       "<Figure size 432x288 with 1 Axes>"
      ]
     },
     "metadata": {
      "needs_background": "light"
     },
     "output_type": "display_data"
    },
    {
     "name": "stdout",
     "output_type": "stream",
     "text": [
      "\n",
      "k= 8\n"
     ]
    },
    {
     "data": {
      "image/png": "[encoded data removed]",
      "text/plain": [
       "<Figure size 432x288 with 1 Axes>"
      ]
     },
     "metadata": {
      "needs_background": "light"
     },
     "output_type": "display_data"
    },
    {
     "data": {
      "image/png": "[encoded data removed]",
      "text/plain": [
       "<Figure size 432x288 with 1 Axes>"
      ]
     },
     "metadata": {
      "needs_background": "light"
     },
     "output_type": "display_data"
    },
    {
     "name": "stdout",
     "output_type": "stream",
     "text": [
      "\n",
      "k= 9\n"
     ]
    },
    {
     "data": {
      "image/png": "[encoded data removed]",
      "text/plain": [
       "<Figure size 432x288 with 1 Axes>"
      ]
     },
     "metadata": {
      "needs_background": "light"
     },
     "output_type": "display_data"
    },
    {
     "data": {
      "image/png": "[encoded data removed]",
      "text/plain": [
       "<Figure size 432x288 with 1 Axes>"
      ]
     },
     "metadata": {
      "needs_background": "light"
     },
     "output_type": "display_data"
    }
   ],
   "source": [
    "X=finalDataFrame.iloc[:,[0,1]].to_numpy()\n",
    "for i in range(2,10):\n",
    "    cure_instance = cure(X, i)\n",
    "    cure_instance.process()\n",
    "    clusters = cure_instance.get_clusters()\n",
    "    # Visualize allocated clusters.\n",
    "    visualizer = cluster_visualizer()\n",
    "    visualizer.append_clusters(clusters, X)\n",
    "    print(\"\\nk=\",i)\n",
    "    #visualizer.show()\n",
    "    imageName=\"cure\"+str(i)+\".png\"\n",
    "    visualizer.save(imageName)\n",
    "    visualizer.show()"
   ]
  },
  {
   "cell_type": "markdown",
   "metadata": {},
   "source": [
    "k=10~19\n",
    "2차원"
   ]
  },
  {
   "cell_type": "code",
   "execution_count": 35,
   "metadata": {
    "scrolled": true
   },
   "outputs": [
    {
     "name": "stdout",
     "output_type": "stream",
     "text": [
      "\n",
      "k= 10\n"
     ]
    },
    {
     "data": {
      "image/png": "[encoded data removed]",
      "text/plain": [
       "<Figure size 432x288 with 1 Axes>"
      ]
     },
     "metadata": {
      "needs_background": "light"
     },
     "output_type": "display_data"
    },
    {
     "data": {
      "image/png": "[encoded data removed]",
      "text/plain": [
       "<Figure size 432x288 with 1 Axes>"
      ]
     },
     "metadata": {
      "needs_background": "light"
     },
     "output_type": "display_data"
    },
    {
     "name": "stdout",
     "output_type": "stream",
     "text": [
      "\n",
      "k= 11\n"
     ]
    },
    {
     "data": {
      "image/png": "[encoded data removed]",
      "text/plain": [
       "<Figure size 432x288 with 1 Axes>"
      ]
     },
     "metadata": {
      "needs_background": "light"
     },
     "output_type": "display_data"
    },
    {
     "data": {
      "image/png": "[encoded data removed]",
      "text/plain": [
       "<Figure size 432x288 with 1 Axes>"
      ]
     },
     "metadata": {
      "needs_background": "light"
     },
     "output_type": "display_data"
    },
    {
     "name": "stdout",
     "output_type": "stream",
     "text": [
      "\n",
      "k= 12\n"
     ]
    },
    {
     "data": {
      "image/png": "[encoded data removed]",
      "text/plain": [
       "<Figure size 432x288 with 1 Axes>"
      ]
     },
     "metadata": {
      "needs_background": "light"
     },
     "output_type": "display_data"
    },
    {
     "data": {
      "image/png": "[encoded data removed]",
      "text/plain": [
       "<Figure size 432x288 with 1 Axes>"
      ]
     },
     "metadata": {
      "needs_background": "light"
     },
     "output_type": "display_data"
    },
    {
     "name": "stdout",
     "output_type": "stream",
     "text": [
      "\n",
      "k= 13\n"
     ]
    },
    {
     "data": {
      "image/png": "[encoded data removed]",
      "text/plain": [
       "<Figure size 432x288 with 1 Axes>"
      ]
     },
     "metadata": {
      "needs_background": "light"
     },
     "output_type": "display_data"
    },
    {
     "data": {
      "image/png": "[encoded data removed]",
      "text/plain": [
       "<Figure size 432x288 with 1 Axes>"
      ]
     },
     "metadata": {
      "needs_background": "light"
     },
     "output_type": "display_data"
    },
    {
     "name": "stdout",
     "output_type": "stream",
     "text": [
      "\n",
      "k= 14\n"
     ]
    },
    {
     "data": {
      "image/png": "[encoded data removed]",
      "text/plain": [
       "<Figure size 432x288 with 1 Axes>"
      ]
     },
     "metadata": {
      "needs_background": "light"
     },
     "output_type": "display_data"
    },
    {
     "data": {
      "image/png": "[encoded data removed]",
      "text/plain": [
       "<Figure size 432x288 with 1 Axes>"
      ]
     },
     "metadata": {
      "needs_background": "light"
     },
     "output_type": "display_data"
    },
    {
     "name": "stdout",
     "output_type": "stream",
     "text": [
      "\n",
      "k= 15\n"
     ]
    },
    {
     "data": {
      "image/png": "[encoded data removed]",
      "text/plain": [
       "<Figure size 432x288 with 1 Axes>"
      ]
     },
     "metadata": {
      "needs_background": "light"
     },
     "output_type": "display_data"
    },
    {
     "data": {
      "image/png": "[encoded data removed]",
      "text/plain": [
       "<Figure size 432x288 with 1 Axes>"
      ]
     },
     "metadata": {
      "needs_background": "light"
     },
     "output_type": "display_data"
    },
    {
     "name": "stdout",
     "output_type": "stream",
     "text": [
      "\n",
      "k= 16\n"
     ]
    },
    {
     "data": {
      "image/png": "[encoded data removed]",
      "text/plain": [
       "<Figure size 432x288 with 1 Axes>"
      ]
     },
     "metadata": {
      "needs_background": "light"
     },
     "output_type": "display_data"
    },
    {
     "data": {
      "image/png": "[encoded data removed]",
      "text/plain": [
       "<Figure size 432x288 with 1 Axes>"
      ]
     },
     "metadata": {
      "needs_background": "light"
     },
     "output_type": "display_data"
    },
    {
     "name": "stdout",
     "output_type": "stream",
     "text": [
      "\n",
      "k= 17\n"
     ]
    },
    {
     "data": {
      "image/png": "[encoded data removed]",
      "text/plain": [
       "<Figure size 432x288 with 1 Axes>"
      ]
     },
     "metadata": {
      "needs_background": "light"
     },
     "output_type": "display_data"
    },
    {
     "data": {
      "image/png": "[encoded data removed]",
      "text/plain": [
       "<Figure size 432x288 with 1 Axes>"
      ]
     },
     "metadata": {
      "needs_background": "light"
     },
     "output_type": "display_data"
    },
    {
     "name": "stdout",
     "output_type": "stream",
     "text": [
      "\n",
      "k= 18\n"
     ]
    },
    {
     "data": {
      "image/png": "[encoded data removed]",
      "text/plain": [
       "<Figure size 432x288 with 1 Axes>"
      ]
     },
     "metadata": {
      "needs_background": "light"
     },
     "output_type": "display_data"
    },
    {
     "data": {
      "image/png": "[encoded data removed]",
      "text/plain": [
       "<Figure size 432x288 with 1 Axes>"
      ]
     },
     "metadata": {
      "needs_background": "light"
     },
     "output_type": "display_data"
    },
    {
     "name": "stdout",
     "output_type": "stream",
     "text": [
      "\n",
      "k= 19\n"
     ]
    },
    {
     "data": {
      "image/png": "[encoded data removed]",
      "text/plain": [
       "<Figure size 432x288 with 1 Axes>"
      ]
     },
     "metadata": {
      "needs_background": "light"
     },
     "output_type": "display_data"
    },
    {
     "data": {
      "image/png": "[encoded data removed]",
      "text/plain": [
       "<Figure size 432x288 with 1 Axes>"
      ]
     },
     "metadata": {
      "needs_background": "light"
     },
     "output_type": "display_data"
    }
   ],
   "source": [
    "X=finalDataFrame.iloc[:,[0,1]].to_numpy()\n",
    "for i in range(10,20):\n",
    "    cure_instance = cure(X, i)\n",
    "    cure_instance.process()\n",
    "    clusters = cure_instance.get_clusters()\n",
    "    # Visualize allocated clusters.\n",
    "    visualizer = cluster_visualizer()\n",
    "    visualizer.append_clusters(clusters, X)\n",
    "    print(\"\\nk=\",i)\n",
    "    #visualizer.show()\n",
    "    imageName=\"cure\"+str(i)+\".png\"\n",
    "    visualizer.save(imageName)\n",
    "    visualizer.show()"
   ]
  },
  {
   "cell_type": "code",
   "execution_count": null,
   "metadata": {},
   "outputs": [],
   "source": []
  }
 ],
 "metadata": {
  "kernelspec": {
   "display_name": "Python 3",
   "language": "python",
   "name": "python3"
  },
  "language_info": {
   "codemirror_mode": {
    "name": "ipython",
    "version": 3
   },
   "file_extension": ".py",
   "mimetype": "text/x-python",
   "name": "python",
   "nbconvert_exporter": "python",
   "pygments_lexer": "ipython3",
   "version": "3.7.4"
  }
 },
 "nbformat": 4,
 "nbformat_minor": 2
}
